{
 "metadata": {
  "name": ""
 },
 "nbformat": 3,
 "nbformat_minor": 0,
 "worksheets": [
  {
   "cells": [
    {
     "cell_type": "code",
     "collapsed": false,
     "input": [
      "import numpy as np\n",
      "import sympy\n",
      "from sympy import symbols, Matrix\n",
      "sympy.init_printing()\n",
      "%matplotlib inline"
     ],
     "language": "python",
     "metadata": {},
     "outputs": [
      {
       "output_type": "stream",
       "stream": "stderr",
       "text": [
        "/home/rick/anaconda/lib/python3.3/site-packages/matplotlib/mathtext.py:46: UserWarning: Due to a bug in pyparsing <= 2.0.0 on Python 3.x, packrat parsing has been disabled.  Mathtext rendering will be much slower as a result.  Install pyparsing 2.0.0 or later to improve performance.\n",
        "  warn(\"Due to a bug in pyparsing <= 2.0.0 on Python 3.x, packrat parsing \"\n"
       ]
      }
     ],
     "prompt_number": 1
    },
    {
     "cell_type": "markdown",
     "metadata": {},
     "source": [
      "For now, neglect rotational inertia."
     ]
    },
    {
     "cell_type": "heading",
     "level": 2,
     "metadata": {},
     "source": [
      "Interpolation functions"
     ]
    },
    {
     "cell_type": "code",
     "collapsed": false,
     "input": [
      "xi, l, rho = symbols('xi, l, rho')\n",
      "\n",
      "# Shape functions\n",
      "S = Matrix(np.zeros((4, 12)))\n",
      "x2 = (1 - xi)\n",
      "S[0, 0 ] =  x2                     # extension\n",
      "S[0, 6 ] =  xi\n",
      "S[1, 1 ] =  x2**2 * (3 - 2*x2)     # y-deflection\n",
      "S[1, 7 ] =  xi**2 * (3 - 2*xi)\n",
      "S[1, 5 ] = -x2**2 * (x2 - 1) * l  \n",
      "S[1, 11] =  xi**2 * (xi - 1) * l  \n",
      "S[2, 2 ] =  x2**2 * (3 - 2*x2)     # z-deflection\n",
      "S[2, 8 ] =  xi**2 * (3 - 2*xi)\n",
      "S[2, 4 ] =  x2**2 * (x2 - 1) * l\n",
      "S[2, 10] = -xi**2 * (xi - 1) * l\n",
      "S[3, 3 ] =  x2                     # torsion\n",
      "S[3, 9 ] =  xi\n",
      "\n",
      "#S[4, 2 ] =  6 * x2 * (x2 - 1) / l  # y-rotation\n",
      "#S[4, 8 ] =  6 * xi * (xi - 1) / l\n",
      "#S[4, 4 ] = -x2 * (3*x2 - 2)  \n",
      "#S[4, 10] =  xi * (3*xi - 2)  \n",
      "#S[5, 1 ] = -6 * x2 * (x2 - 1) / l  # z-rotation\n",
      "#S[5, 7 ] = -6 * xi * (xi - 1) / l\n",
      "#S[5, 5 ] =  x2 * (3*x2 - 2)  \n",
      "#S[5, 11] =  xi * (3*xi - 2)  \n",
      "S.T"
     ],
     "language": "python",
     "metadata": {},
     "outputs": [
      {
       "latex": [
        "$$\\left[\\begin{matrix}- \\xi + 1 & 0.0 & 0.0 & 0.0\\\\0.0 & \\left(- \\xi + 1\\right)^{2} \\left(2 \\xi + 1\\right) & 0.0 & 0.0\\\\0.0 & 0.0 & \\left(- \\xi + 1\\right)^{2} \\left(2 \\xi + 1\\right) & 0.0\\\\0.0 & 0.0 & 0.0 & - \\xi + 1\\\\0.0 & 0.0 & - l \\xi \\left(- \\xi + 1\\right)^{2} & 0.0\\\\0.0 & l \\xi \\left(- \\xi + 1\\right)^{2} & 0.0 & 0.0\\\\\\xi & 0.0 & 0.0 & 0.0\\\\0.0 & \\xi^{2} \\left(- 2 \\xi + 3\\right) & 0.0 & 0.0\\\\0.0 & 0.0 & \\xi^{2} \\left(- 2 \\xi + 3\\right) & 0.0\\\\0.0 & 0.0 & 0.0 & \\xi\\\\0.0 & 0.0 & - l \\xi^{2} \\left(\\xi - 1\\right) & 0.0\\\\0.0 & l \\xi^{2} \\left(\\xi - 1\\right) & 0.0 & 0.0\\end{matrix}\\right]$$"
       ],
       "metadata": {},
       "output_type": "pyout",
       "png": "[encoded data removed]",
       "prompt_number": 2,
       "text": [
        "\u23a1-\u03be + 1          0.0                  0.0           0.0  \u23a4\n",
        "\u23a2                                                        \u23a5\n",
        "\u23a2                2                                       \u23a5\n",
        "\u23a2 0.0    (-\u03be + 1) \u22c5(2\u22c5\u03be + 1)          0.0           0.0  \u23a5\n",
        "\u23a2                                                        \u23a5\n",
        "\u23a2                                     2                  \u23a5\n",
        "\u23a2 0.0            0.0          (-\u03be + 1) \u22c5(2\u22c5\u03be + 1)   0.0  \u23a5\n",
        "\u23a2                                                        \u23a5\n",
        "\u23a2 0.0            0.0                  0.0          -\u03be + 1\u23a5\n",
        "\u23a2                                                        \u23a5\n",
        "\u23a2                                            2           \u23a5\n",
        "\u23a2 0.0            0.0            -l\u22c5\u03be\u22c5(-\u03be + 1)       0.0  \u23a5\n",
        "\u23a2                                                        \u23a5\n",
        "\u23a2                       2                                \u23a5\n",
        "\u23a2 0.0       l\u22c5\u03be\u22c5(-\u03be + 1)              0.0           0.0  \u23a5\n",
        "\u23a2                                                        \u23a5\n",
        "\u23a2  \u03be             0.0                  0.0           0.0  \u23a5\n",
        "\u23a2                                                        \u23a5\n",
        "\u23a2            2                                           \u23a5\n",
        "\u23a2 0.0       \u03be \u22c5(-2\u22c5\u03be + 3)             0.0           0.0  \u23a5\n",
        "\u23a2                                                        \u23a5\n",
        "\u23a2                                 2                      \u23a5\n",
        "\u23a2 0.0            0.0             \u03be \u22c5(-2\u22c5\u03be + 3)      0.0  \u23a5\n",
        "\u23a2                                                        \u23a5\n",
        "\u23a2 0.0            0.0                  0.0            \u03be   \u23a5\n",
        "\u23a2                                                        \u23a5\n",
        "\u23a2                                    2                   \u23a5\n",
        "\u23a2 0.0            0.0             -l\u22c5\u03be \u22c5(\u03be - 1)      0.0  \u23a5\n",
        "\u23a2                                                        \u23a5\n",
        "\u23a2              2                                         \u23a5\n",
        "\u23a3 0.0       l\u22c5\u03be \u22c5(\u03be - 1)              0.0           0.0  \u23a6"
       ]
      }
     ],
     "prompt_number": 2
    },
    {
     "cell_type": "code",
     "collapsed": false,
     "input": [
      "titles = ['x-defl', 'y-defl', 'z-defl', 'torsion']\n",
      "for i in range(4):\n",
      "    sympy.plot(*([xx.subs(l, 2) for xx in S[i,:] if xx != 0] + [(xi, 0, 1)]), \n",
      "               title=titles[i])"
     ],
     "language": "python",
     "metadata": {},
     "outputs": [
      {
       "metadata": {},
       "output_type": "display_data",
       "png": "[encoded data removed]",
       "text": [
        "<matplotlib.figure.Figure at 0x7f38a0527990>"
       ]
      },
      {
       "metadata": {},
       "output_type": "display_data",
       "png": "[encoded data removed]",
       "text": [
        "<matplotlib.figure.Figure at 0x7f38a01f0190>"
       ]
      },
      {
       "metadata": {},
       "output_type": "display_data",
       "png": "[encoded data removed]",
       "text": [
        "<matplotlib.figure.Figure at 0x7f38a010be50>"
       ]
      },
      {
       "metadata": {},
       "output_type": "display_data",
       "png": "[encoded data removed]",
       "text": [
        "<matplotlib.figure.Figure at 0x7f38a0542650>"
       ]
      }
     ],
     "prompt_number": 3
    },
    {
     "cell_type": "heading",
     "level": 3,
     "metadata": {},
     "source": [
      "Mass matrix"
     ]
    },
    {
     "cell_type": "markdown",
     "metadata": {},
     "source": [
      "Define the density distribution (linear):"
     ]
    },
    {
     "cell_type": "code",
     "collapsed": false,
     "input": [
      "rho1, rho2 = symbols('rho_1, rho_2')\n",
      "rho = (1 - xi)*rho1 + xi*rho2\n",
      "rho"
     ],
     "language": "python",
     "metadata": {},
     "outputs": [
      {
       "latex": [
        "$$\\rho_{1} \\left(- \\xi + 1\\right) + \\rho_{2} \\xi$$"
       ],
       "metadata": {},
       "output_type": "pyout",
       "png": "[encoded data removed]",
       "prompt_number": 4,
       "text": [
        "\u03c1\u2081\u22c5(-\u03be + 1) + \u03c1\u2082\u22c5\u03be"
       ]
      }
     ],
     "prompt_number": 4
    },
    {
     "cell_type": "markdown",
     "metadata": {},
     "source": [
      "Integrate the density distribution with the shape functions."
     ]
    },
    {
     "cell_type": "code",
     "collapsed": false,
     "input": [
      "def sym_me():\n",
      "    m = Matrix(np.diag([rho, rho, rho, 0]))\n",
      "    integrand = S.T * m * S\n",
      "    me = integrand.applyfunc(\n",
      "        lambda xxx: l * sympy.integrate(xxx, (xi, 0, 1)).expand().factor()\n",
      "    )\n",
      "    return me\n",
      "me = sym_me()\n",
      "me.shape"
     ],
     "language": "python",
     "metadata": {},
     "outputs": [
      {
       "latex": [
        "$$\\begin{pmatrix}12, & 12\\end{pmatrix}$$"
       ],
       "metadata": {},
       "output_type": "pyout",
       "png": "[encoded data removed]",
       "prompt_number": 5,
       "text": [
        "(12, 12)"
       ]
      }
     ],
     "prompt_number": 5
    },
    {
     "cell_type": "code",
     "collapsed": false,
     "input": [
      "me[0,:]"
     ],
     "language": "python",
     "metadata": {},
     "outputs": [
      {
       "latex": [
        "$$\\left[\\begin{array}{cccccccccccc}\\frac{l}{12} \\left(3 \\rho_{1} + \\rho_{2}\\right) & 0 & 0 & 0 & 0 & 0 & \\frac{l}{12} \\left(\\rho_{1} + \\rho_{2}\\right) & 0 & 0 & 0 & 0 & 0\\end{array}\\right]$$"
       ],
       "metadata": {},
       "output_type": "pyout",
       "png": "[encoded data removed]",
       "prompt_number": 6,
       "text": [
        "\u23a1l\u22c5(3\u22c5\u03c1\u2081 + \u03c1\u2082)                 l\u22c5(\u03c1\u2081 + \u03c1\u2082)               \u23a4\n",
        "\u23a2\u2500\u2500\u2500\u2500\u2500\u2500\u2500\u2500\u2500\u2500\u2500\u2500\u2500  0  0  0  0  0  \u2500\u2500\u2500\u2500\u2500\u2500\u2500\u2500\u2500\u2500\u2500  0  0  0  0  0\u23a5\n",
        "\u23a3      12                           12                   \u23a6"
       ]
      }
     ],
     "prompt_number": 6
    },
    {
     "cell_type": "code",
     "collapsed": false,
     "input": [
      "me[6,:]"
     ],
     "language": "python",
     "metadata": {},
     "outputs": [
      {
       "latex": [
        "$$\\left[\\begin{array}{cccccccccccc}\\frac{l}{12} \\left(\\rho_{1} + \\rho_{2}\\right) & 0 & 0 & 0 & 0 & 0 & \\frac{l}{12} \\left(\\rho_{1} + 3 \\rho_{2}\\right) & 0 & 0 & 0 & 0 & 0\\end{array}\\right]$$"
       ],
       "metadata": {},
       "output_type": "pyout",
       "png": "[encoded data removed]",
       "prompt_number": 7,
       "text": [
        "\u23a1l\u22c5(\u03c1\u2081 + \u03c1\u2082)                 l\u22c5(\u03c1\u2081 + 3\u22c5\u03c1\u2082)               \u23a4\n",
        "\u23a2\u2500\u2500\u2500\u2500\u2500\u2500\u2500\u2500\u2500\u2500\u2500  0  0  0  0  0  \u2500\u2500\u2500\u2500\u2500\u2500\u2500\u2500\u2500\u2500\u2500\u2500\u2500  0  0  0  0  0\u23a5\n",
        "\u23a3     12                           12                    \u23a6"
       ]
      }
     ],
     "prompt_number": 7
    },
    {
     "cell_type": "code",
     "collapsed": false,
     "input": [
      "me[1,:]"
     ],
     "language": "python",
     "metadata": {},
     "outputs": [
      {
       "latex": [
        "$$\\left[\\begin{array}{cccccccccccc}0 & \\frac{l}{35} \\left(10 \\rho_{1} + 3 \\rho_{2}\\right) & 0 & 0 & 0 & \\frac{l^{2}}{420} \\left(15 \\rho_{1} + 7 \\rho_{2}\\right) & 0 & \\frac{9 l}{140} \\left(\\rho_{1} + \\rho_{2}\\right) & 0 & 0 & 0 & - \\frac{l^{2}}{420} \\left(7 \\rho_{1} + 6 \\rho_{2}\\right)\\end{array}\\right]$$"
       ],
       "metadata": {},
       "output_type": "pyout",
       "png": "[encoded data removed]",
       "prompt_number": 8,
       "text": [
        "\u23a1                               2                                             \n",
        "\u23a2   l\u22c5(10\u22c5\u03c1\u2081 + 3\u22c5\u03c1\u2082)           l \u22c5(15\u22c5\u03c1\u2081 + 7\u22c5\u03c1\u2082)     9\u22c5l\u22c5(\u03c1\u2081 + \u03c1\u2082)           -\n",
        "\u23a20  \u2500\u2500\u2500\u2500\u2500\u2500\u2500\u2500\u2500\u2500\u2500\u2500\u2500\u2500\u2500\u2500  0  0  0  \u2500\u2500\u2500\u2500\u2500\u2500\u2500\u2500\u2500\u2500\u2500\u2500\u2500\u2500\u2500\u2500\u2500  0  \u2500\u2500\u2500\u2500\u2500\u2500\u2500\u2500\u2500\u2500\u2500\u2500\u2500  0  0  0  \u2500\n",
        "\u23a3          35                         420                 140                 \n",
        "\n",
        " 2               \u23a4\n",
        "l \u22c5(7\u22c5\u03c1\u2081 + 6\u22c5\u03c1\u2082) \u23a5\n",
        "\u2500\u2500\u2500\u2500\u2500\u2500\u2500\u2500\u2500\u2500\u2500\u2500\u2500\u2500\u2500\u2500\u2500\u23a5\n",
        "      420        \u23a6"
       ]
      }
     ],
     "prompt_number": 8
    },
    {
     "cell_type": "markdown",
     "metadata": {},
     "source": [
      "Special case: rho1 == rho2"
     ]
    },
    {
     "cell_type": "code",
     "collapsed": false,
     "input": [
      "me.subs({rho2: rho1})/rho1"
     ],
     "language": "python",
     "metadata": {},
     "outputs": [
      {
       "latex": [
        "$$\\left[\\begin{array}{cccccccccccc}\\frac{l}{3} & 0 & 0 & 0 & 0 & 0 & \\frac{l}{6} & 0 & 0 & 0 & 0 & 0\\\\0 & \\frac{13 l}{35} & 0 & 0 & 0 & \\frac{11 l^{2}}{210} & 0 & \\frac{9 l}{70} & 0 & 0 & 0 & - \\frac{13 l^{2}}{420}\\\\0 & 0 & \\frac{13 l}{35} & 0 & - \\frac{11 l^{2}}{210} & 0 & 0 & 0 & \\frac{9 l}{70} & 0 & \\frac{13 l^{2}}{420} & 0\\\\0 & 0 & 0 & 0 & 0 & 0 & 0 & 0 & 0 & 0 & 0 & 0\\\\0 & 0 & - \\frac{11 l^{2}}{210} & 0 & \\frac{l^{3}}{105} & 0 & 0 & 0 & - \\frac{13 l^{2}}{420} & 0 & - \\frac{l^{3}}{140} & 0\\\\0 & \\frac{11 l^{2}}{210} & 0 & 0 & 0 & \\frac{l^{3}}{105} & 0 & \\frac{13 l^{2}}{420} & 0 & 0 & 0 & - \\frac{l^{3}}{140}\\\\\\frac{l}{6} & 0 & 0 & 0 & 0 & 0 & \\frac{l}{3} & 0 & 0 & 0 & 0 & 0\\\\0 & \\frac{9 l}{70} & 0 & 0 & 0 & \\frac{13 l^{2}}{420} & 0 & \\frac{13 l}{35} & 0 & 0 & 0 & - \\frac{11 l^{2}}{210}\\\\0 & 0 & \\frac{9 l}{70} & 0 & - \\frac{13 l^{2}}{420} & 0 & 0 & 0 & \\frac{13 l}{35} & 0 & \\frac{11 l^{2}}{210} & 0\\\\0 & 0 & 0 & 0 & 0 & 0 & 0 & 0 & 0 & 0 & 0 & 0\\\\0 & 0 & \\frac{13 l^{2}}{420} & 0 & - \\frac{l^{3}}{140} & 0 & 0 & 0 & \\frac{11 l^{2}}{210} & 0 & \\frac{l^{3}}{105} & 0\\\\0 & - \\frac{13 l^{2}}{420} & 0 & 0 & 0 & - \\frac{l^{3}}{140} & 0 & - \\frac{11 l^{2}}{210} & 0 & 0 & 0 & \\frac{l^{3}}{105}\\end{array}\\right]$$"
       ],
       "metadata": {},
       "output_type": "pyout",
       "png": "[encoded data removed]",
       "prompt_number": 9,
       "text": [
        "\u23a1l                                       l                                    \n",
        "\u23a2\u2500     0        0     0     0       0    \u2500     0        0     0    0       0  \n",
        "\u23a23                                       6                                    \n",
        "\u23a2                                                                             \n",
        "\u23a2                                     2                                      2\n",
        "\u23a2    13\u22c5l                         11\u22c5l        9\u22c5l                       -13\u22c5l \n",
        "\u23a20   \u2500\u2500\u2500\u2500       0     0     0     \u2500\u2500\u2500\u2500\u2500  0    \u2500\u2500\u2500       0     0    0    \u2500\u2500\u2500\u2500\u2500\u2500\n",
        "\u23a2     35                           210         70                         420 \n",
        "\u23a2                                                                             \n",
        "\u23a2                             2                                      2        \n",
        "\u23a2             13\u22c5l       -11\u22c5l                         9\u22c5l       13\u22c5l         \n",
        "\u23a20     0      \u2500\u2500\u2500\u2500    0  \u2500\u2500\u2500\u2500\u2500\u2500\u2500    0    0     0       \u2500\u2500\u2500    0  \u2500\u2500\u2500\u2500\u2500     0  \n",
        "\u23a2              35          210                          70        420         \n",
        "\u23a2                                                                             \n",
        "\u23a20     0        0     0     0       0    0     0        0     0    0       0  \n",
        "\u23a2                                                                             \n",
        "\u23a2                 2          3                            2        3          \n",
        "\u23a2            -11\u22c5l          l                        -13\u22c5l       -l           \n",
        "\u23a20     0     \u2500\u2500\u2500\u2500\u2500\u2500\u2500  0    \u2500\u2500\u2500      0    0     0     \u2500\u2500\u2500\u2500\u2500\u2500\u2500  0  \u2500\u2500\u2500\u2500      0  \n",
        "\u23a2              210         105                         420       140          \n",
        "\u23a2                                                                             \n",
        "\u23a2        2                           3           2                         3  \n",
        "\u23a2    11\u22c5l                           l        13\u22c5l                        -l   \n",
        "\u23a20   \u2500\u2500\u2500\u2500\u2500      0     0     0      \u2500\u2500\u2500   0   \u2500\u2500\u2500\u2500\u2500      0     0    0     \u2500\u2500\u2500\u2500 \n",
        "\u23a2     210                          105        420                        140  \n",
        "\u23a2                                                                             \n",
        "\u23a2l                                       l                                    \n",
        "\u23a2\u2500     0        0     0     0       0    \u2500     0        0     0    0       0  \n",
        "\u23a26                                       3                                    \n",
        "\u23a2                                                                             \n",
        "\u23a2                                     2                                      2\n",
        "\u23a2     9\u22c5l                         13\u22c5l       13\u22c5l                       -11\u22c5l \n",
        "\u23a20    \u2500\u2500\u2500       0     0     0     \u2500\u2500\u2500\u2500\u2500  0   \u2500\u2500\u2500\u2500       0     0    0    \u2500\u2500\u2500\u2500\u2500\u2500\n",
        "\u23a2      70                          420        35                          210 \n",
        "\u23a2                                                                             \n",
        "\u23a2                             2                                      2        \n",
        "\u23a2              9\u22c5l       -13\u22c5l                        13\u22c5l       11\u22c5l         \n",
        "\u23a20     0       \u2500\u2500\u2500    0  \u2500\u2500\u2500\u2500\u2500\u2500\u2500    0    0     0      \u2500\u2500\u2500\u2500    0  \u2500\u2500\u2500\u2500\u2500     0  \n",
        "\u23a2               70         420                         35         210         \n",
        "\u23a2                                                                             \n",
        "\u23a20     0        0     0     0       0    0     0        0     0    0       0  \n",
        "\u23a2                                                                             \n",
        "\u23a2                 2         3                             2         3         \n",
        "\u23a2             13\u22c5l        -l                          11\u22c5l         l          \n",
        "\u23a20     0      \u2500\u2500\u2500\u2500\u2500   0   \u2500\u2500\u2500\u2500      0    0     0      \u2500\u2500\u2500\u2500\u2500   0   \u2500\u2500\u2500      0  \n",
        "\u23a2              420        140                          210        105         \n",
        "\u23a2                                                                             \n",
        "\u23a2        2                          3            2                          3 \n",
        "\u23a2   -13\u22c5l                         -l        -11\u22c5l                          l  \n",
        "\u23a20  \u2500\u2500\u2500\u2500\u2500\u2500\u2500     0     0     0     \u2500\u2500\u2500\u2500   0  \u2500\u2500\u2500\u2500\u2500\u2500\u2500     0     0    0      \u2500\u2500\u2500 \n",
        "\u23a3     420                         140         210                         105 \n",
        "\n",
        " \u23a4\n",
        " \u23a5\n",
        " \u23a5\n",
        " \u23a5\n",
        " \u23a5\n",
        " \u23a5\n",
        "\u2500\u23a5\n",
        " \u23a5\n",
        " \u23a5\n",
        " \u23a5\n",
        " \u23a5\n",
        " \u23a5\n",
        " \u23a5\n",
        " \u23a5\n",
        " \u23a5\n",
        " \u23a5\n",
        " \u23a5\n",
        " \u23a5\n",
        " \u23a5\n",
        " \u23a5\n",
        " \u23a5\n",
        " \u23a5\n",
        " \u23a5\n",
        " \u23a5\n",
        " \u23a5\n",
        " \u23a5\n",
        " \u23a5\n",
        " \u23a5\n",
        " \u23a5\n",
        " \u23a5\n",
        " \u23a5\n",
        " \u23a5\n",
        "\u2500\u23a5\n",
        " \u23a5\n",
        " \u23a5\n",
        " \u23a5\n",
        " \u23a5\n",
        " \u23a5\n",
        " \u23a5\n",
        " \u23a5\n",
        " \u23a5\n",
        " \u23a5\n",
        " \u23a5\n",
        " \u23a5\n",
        " \u23a5\n",
        " \u23a5\n",
        " \u23a5\n",
        " \u23a5\n",
        " \u23a5\n",
        " \u23a5\n",
        " \u23a6"
       ]
      }
     ],
     "prompt_number": 9
    },
    {
     "cell_type": "heading",
     "level": 3,
     "metadata": {},
     "source": [
      "Shape integrals"
     ]
    },
    {
     "cell_type": "markdown",
     "metadata": {},
     "source": [
      "As well as the actual mass matrix, the shape integrals are needed for the multibody dynamics equations:\n",
      "\n",
      "\\begin{align}\n",
      "m                   &= \\int \\mathrm{d}m      \\\\\n",
      "\\boldsymbol{S}      &= \\int \\boldsymbol{S} \\mathrm{d}m  \\\\\n",
      "\\boldsymbol{S}_{kl} &= \\int \\boldsymbol{S}_k^T \\boldsymbol{S}_l \\mathrm{d}m\n",
      "\\end{align}\n",
      "where $\\boldsymbol{S}_k$ is the $k$th row of the element shape function."
     ]
    },
    {
     "cell_type": "markdown",
     "metadata": {},
     "source": [
      "The mass is the average density times the length:"
     ]
    },
    {
     "cell_type": "code",
     "collapsed": false,
     "input": [
      "mass = l * sympy.integrate(rho, (xi, 0, 1)).factor()\n",
      "mass"
     ],
     "language": "python",
     "metadata": {},
     "outputs": [
      {
       "latex": [
        "$$\\frac{l}{2} \\left(\\rho_{1} + \\rho_{2}\\right)$$"
       ],
       "metadata": {},
       "output_type": "pyout",
       "png": "[encoded data removed]",
       "prompt_number": 10,
       "text": [
        "l\u22c5(\u03c1\u2081 + \u03c1\u2082)\n",
        "\u2500\u2500\u2500\u2500\u2500\u2500\u2500\u2500\u2500\u2500\u2500\n",
        "     2     "
       ]
      }
     ],
     "prompt_number": 10
    },
    {
     "cell_type": "markdown",
     "metadata": {},
     "source": [
      "First shape integral:"
     ]
    },
    {
     "cell_type": "code",
     "collapsed": false,
     "input": [
      "shape_integral_1 = S[:3, :].applyfunc(\n",
      "    lambda xxx: l * sympy.integrate(rho * xxx, (xi, 0, 1)).expand().simplify()\n",
      ")\n",
      "shape_integral_1.T"
     ],
     "language": "python",
     "metadata": {},
     "outputs": [
      {
       "latex": [
        "$$\\left[\\begin{matrix}l \\left(\\frac{\\rho_{1}}{3} + \\frac{\\rho_{2}}{6}\\right) & 0 & 0\\\\0 & l \\left(\\frac{7 \\rho_{1}}{20} + \\frac{3 \\rho_{2}}{20}\\right) & 0\\\\0 & 0 & l \\left(\\frac{7 \\rho_{1}}{20} + \\frac{3 \\rho_{2}}{20}\\right)\\\\0 & 0 & 0\\\\0 & 0 & - \\frac{l^{2}}{60} \\left(3 \\rho_{1} + 2 \\rho_{2}\\right)\\\\0 & \\frac{l^{2}}{60} \\left(3 \\rho_{1} + 2 \\rho_{2}\\right) & 0\\\\l \\left(\\frac{\\rho_{1}}{6} + \\frac{\\rho_{2}}{3}\\right) & 0 & 0\\\\0 & l \\left(\\frac{3 \\rho_{1}}{20} + \\frac{7 \\rho_{2}}{20}\\right) & 0\\\\0 & 0 & l \\left(\\frac{3 \\rho_{1}}{20} + \\frac{7 \\rho_{2}}{20}\\right)\\\\0 & 0 & 0\\\\0 & 0 & \\frac{l^{2}}{60} \\left(2 \\rho_{1} + 3 \\rho_{2}\\right)\\\\0 & - \\frac{l^{2}}{60} \\left(2 \\rho_{1} + 3 \\rho_{2}\\right) & 0\\end{matrix}\\right]$$"
       ],
       "metadata": {},
       "output_type": "pyout",
       "png": "[encoded data removed]",
       "prompt_number": 11,
       "text": [
        "\u23a1  \u239b\u03c1\u2081   \u03c1\u2082\u239e                                        \u23a4\n",
        "\u23a2l\u22c5\u239c\u2500\u2500 + \u2500\u2500\u239f          0                   0         \u23a5\n",
        "\u23a2  \u239d3    6 \u23a0                                        \u23a5\n",
        "\u23a2                                                   \u23a5\n",
        "\u23a2                \u239b7\u22c5\u03c1\u2081   3\u22c5\u03c1\u2082\u239e                      \u23a5\n",
        "\u23a2     0        l\u22c5\u239c\u2500\u2500\u2500\u2500 + \u2500\u2500\u2500\u2500\u239f            0         \u23a5\n",
        "\u23a2                \u239d 20     20 \u23a0                      \u23a5\n",
        "\u23a2                                                   \u23a5\n",
        "\u23a2                                    \u239b7\u22c5\u03c1\u2081   3\u22c5\u03c1\u2082\u239e  \u23a5\n",
        "\u23a2     0               0            l\u22c5\u239c\u2500\u2500\u2500\u2500 + \u2500\u2500\u2500\u2500\u239f  \u23a5\n",
        "\u23a2                                    \u239d 20     20 \u23a0  \u23a5\n",
        "\u23a2                                                   \u23a5\n",
        "\u23a2     0               0                   0         \u23a5\n",
        "\u23a2                                                   \u23a5\n",
        "\u23a2                                   2               \u23a5\n",
        "\u23a2                                 -l \u22c5(3\u22c5\u03c1\u2081 + 2\u22c5\u03c1\u2082) \u23a5\n",
        "\u23a2     0               0           \u2500\u2500\u2500\u2500\u2500\u2500\u2500\u2500\u2500\u2500\u2500\u2500\u2500\u2500\u2500\u2500\u2500\u2500\u23a5\n",
        "\u23a2                                         60        \u23a5\n",
        "\u23a2                                                   \u23a5\n",
        "\u23a2               2                                   \u23a5\n",
        "\u23a2              l \u22c5(3\u22c5\u03c1\u2081 + 2\u22c5\u03c1\u2082)                     \u23a5\n",
        "\u23a2     0        \u2500\u2500\u2500\u2500\u2500\u2500\u2500\u2500\u2500\u2500\u2500\u2500\u2500\u2500\u2500\u2500           0         \u23a5\n",
        "\u23a2                     60                            \u23a5\n",
        "\u23a2                                                   \u23a5\n",
        "\u23a2  \u239b\u03c1\u2081   \u03c1\u2082\u239e                                        \u23a5\n",
        "\u23a2l\u22c5\u239c\u2500\u2500 + \u2500\u2500\u239f          0                   0         \u23a5\n",
        "\u23a2  \u239d6    3 \u23a0                                        \u23a5\n",
        "\u23a2                                                   \u23a5\n",
        "\u23a2                \u239b3\u22c5\u03c1\u2081   7\u22c5\u03c1\u2082\u239e                      \u23a5\n",
        "\u23a2     0        l\u22c5\u239c\u2500\u2500\u2500\u2500 + \u2500\u2500\u2500\u2500\u239f            0         \u23a5\n",
        "\u23a2                \u239d 20     20 \u23a0                      \u23a5\n",
        "\u23a2                                                   \u23a5\n",
        "\u23a2                                    \u239b3\u22c5\u03c1\u2081   7\u22c5\u03c1\u2082\u239e  \u23a5\n",
        "\u23a2     0               0            l\u22c5\u239c\u2500\u2500\u2500\u2500 + \u2500\u2500\u2500\u2500\u239f  \u23a5\n",
        "\u23a2                                    \u239d 20     20 \u23a0  \u23a5\n",
        "\u23a2                                                   \u23a5\n",
        "\u23a2     0               0                   0         \u23a5\n",
        "\u23a2                                                   \u23a5\n",
        "\u23a2                                   2               \u23a5\n",
        "\u23a2                                  l \u22c5(2\u22c5\u03c1\u2081 + 3\u22c5\u03c1\u2082) \u23a5\n",
        "\u23a2     0               0            \u2500\u2500\u2500\u2500\u2500\u2500\u2500\u2500\u2500\u2500\u2500\u2500\u2500\u2500\u2500\u2500 \u23a5\n",
        "\u23a2                                         60        \u23a5\n",
        "\u23a2                                                   \u23a5\n",
        "\u23a2               2                                   \u23a5\n",
        "\u23a2             -l \u22c5(2\u22c5\u03c1\u2081 + 3\u22c5\u03c1\u2082)                     \u23a5\n",
        "\u23a2     0       \u2500\u2500\u2500\u2500\u2500\u2500\u2500\u2500\u2500\u2500\u2500\u2500\u2500\u2500\u2500\u2500\u2500\u2500          0         \u23a5\n",
        "\u23a3                     60                            \u23a6"
       ]
      }
     ],
     "prompt_number": 11
    },
    {
     "cell_type": "code",
     "collapsed": false,
     "input": [
      "shape_integral_2 = [\n",
      "    [l * (S[i, :].T * S[j, :]).applyfunc(\n",
      "        lambda xxx: sympy.integrate(rho * xxx, (xi, 0, 1)).expand().simplify())\n",
      "     for j in range(3)]\n",
      "    for i in range(3)\n",
      "]"
     ],
     "language": "python",
     "metadata": {},
     "outputs": [],
     "prompt_number": 12
    },
    {
     "cell_type": "markdown",
     "metadata": {},
     "source": [
      "The mass matrix should be the same as the trace of the 2nd shape integrals:"
     ]
    },
    {
     "cell_type": "code",
     "collapsed": false,
     "input": [
      "(shape_integral_2[0][0] + shape_integral_2[1][1] + shape_integral_2[2][2] - me).expand()"
     ],
     "language": "python",
     "metadata": {},
     "outputs": [
      {
       "latex": [
        "$$\\left[\\begin{array}{cccccccccccc}0 & 0 & 0 & 0 & 0 & 0 & 0 & 0 & 0 & 0 & 0 & 0\\\\0 & 0 & 0 & 0 & 0 & 0 & 0 & 0 & 0 & 0 & 0 & 0\\\\0 & 0 & 0 & 0 & 0 & 0 & 0 & 0 & 0 & 0 & 0 & 0\\\\0 & 0 & 0 & 0 & 0 & 0 & 0 & 0 & 0 & 0 & 0 & 0\\\\0 & 0 & 0 & 0 & 0 & 0 & 0 & 0 & 0 & 0 & 0 & 0\\\\0 & 0 & 0 & 0 & 0 & 0 & 0 & 0 & 0 & 0 & 0 & 0\\\\0 & 0 & 0 & 0 & 0 & 0 & 0 & 0 & 0 & 0 & 0 & 0\\\\0 & 0 & 0 & 0 & 0 & 0 & 0 & 0 & 0 & 0 & 0 & 0\\\\0 & 0 & 0 & 0 & 0 & 0 & 0 & 0 & 0 & 0 & 0 & 0\\\\0 & 0 & 0 & 0 & 0 & 0 & 0 & 0 & 0 & 0 & 0 & 0\\\\0 & 0 & 0 & 0 & 0 & 0 & 0 & 0 & 0 & 0 & 0 & 0\\\\0 & 0 & 0 & 0 & 0 & 0 & 0 & 0 & 0 & 0 & 0 & 0\\end{array}\\right]$$"
       ],
       "metadata": {},
       "output_type": "pyout",
       "png": "[encoded data removed]",
       "prompt_number": 13,
       "text": [
        "\u23a10  0  0  0  0  0  0  0  0  0  0  0\u23a4\n",
        "\u23a2                                  \u23a5\n",
        "\u23a20  0  0  0  0  0  0  0  0  0  0  0\u23a5\n",
        "\u23a2                                  \u23a5\n",
        "\u23a20  0  0  0  0  0  0  0  0  0  0  0\u23a5\n",
        "\u23a2                                  \u23a5\n",
        "\u23a20  0  0  0  0  0  0  0  0  0  0  0\u23a5\n",
        "\u23a2                                  \u23a5\n",
        "\u23a20  0  0  0  0  0  0  0  0  0  0  0\u23a5\n",
        "\u23a2                                  \u23a5\n",
        "\u23a20  0  0  0  0  0  0  0  0  0  0  0\u23a5\n",
        "\u23a2                                  \u23a5\n",
        "\u23a20  0  0  0  0  0  0  0  0  0  0  0\u23a5\n",
        "\u23a2                                  \u23a5\n",
        "\u23a20  0  0  0  0  0  0  0  0  0  0  0\u23a5\n",
        "\u23a2                                  \u23a5\n",
        "\u23a20  0  0  0  0  0  0  0  0  0  0  0\u23a5\n",
        "\u23a2                                  \u23a5\n",
        "\u23a20  0  0  0  0  0  0  0  0  0  0  0\u23a5\n",
        "\u23a2                                  \u23a5\n",
        "\u23a20  0  0  0  0  0  0  0  0  0  0  0\u23a5\n",
        "\u23a2                                  \u23a5\n",
        "\u23a30  0  0  0  0  0  0  0  0  0  0  0\u23a6"
       ]
      }
     ],
     "prompt_number": 13
    },
    {
     "cell_type": "heading",
     "level": 3,
     "metadata": {},
     "source": [
      "Stiffness matrix"
     ]
    },
    {
     "cell_type": "markdown",
     "metadata": {},
     "source": [
      "Differentiate the shape functions:"
     ]
    },
    {
     "cell_type": "code",
     "collapsed": false,
     "input": [
      "B = Matrix(np.zeros((4, 12)))\n",
      "B[0, :] = S[0, :].diff(xi, 1) / l\n",
      "B[1, :] = S[1, :].diff(xi, 2) / l**2\n",
      "B[2, :] = S[2, :].diff(xi, 2) / l**2\n",
      "B[3, :] = S[3, :].diff(xi, 1) / l\n",
      "B.simplify()"
     ],
     "language": "python",
     "metadata": {},
     "outputs": [],
     "prompt_number": 14
    },
    {
     "cell_type": "code",
     "collapsed": false,
     "input": [
      "B[:, :6]"
     ],
     "language": "python",
     "metadata": {},
     "outputs": [
      {
       "latex": [
        "$$\\left[\\begin{matrix}- \\frac{1}{l} & 0 & 0 & 0 & 0 & 0\\\\0 & \\frac{1}{l^{2}} \\left(12 \\xi - 6\\right) & 0 & 0 & 0 & \\frac{1}{l} \\left(6 \\xi - 4\\right)\\\\0 & 0 & \\frac{1}{l^{2}} \\left(12 \\xi - 6\\right) & 0 & \\frac{1}{l} \\left(- 6 \\xi + 4\\right) & 0\\\\0 & 0 & 0 & - \\frac{1}{l} & 0 & 0\\end{matrix}\\right]$$"
       ],
       "metadata": {},
       "output_type": "pyout",
       "png": "[encoded data removed]",
       "prompt_number": 15,
       "text": [
        "\u23a1-1                                                           \u23a4\n",
        "\u23a2\u2500\u2500\u2500       0            0        0        0             0     \u23a5\n",
        "\u23a2 l                                                           \u23a5\n",
        "\u23a2                                                             \u23a5\n",
        "\u23a2     6\u22c5(2\u22c5\u03be - 1)                                  2\u22c5(3\u22c5\u03be - 2)\u23a5\n",
        "\u23a2 0   \u2500\u2500\u2500\u2500\u2500\u2500\u2500\u2500\u2500\u2500\u2500       0        0        0        \u2500\u2500\u2500\u2500\u2500\u2500\u2500\u2500\u2500\u2500\u2500\u23a5\n",
        "\u23a2           2                                           l     \u23a5\n",
        "\u23a2          l                                                  \u23a5\n",
        "\u23a2                                                             \u23a5\n",
        "\u23a2                  6\u22c5(2\u22c5\u03be - 1)       2\u22c5(-3\u22c5\u03be + 2)             \u23a5\n",
        "\u23a2 0        0       \u2500\u2500\u2500\u2500\u2500\u2500\u2500\u2500\u2500\u2500\u2500   0   \u2500\u2500\u2500\u2500\u2500\u2500\u2500\u2500\u2500\u2500\u2500\u2500       0     \u23a5\n",
        "\u23a2                        2                l                   \u23a5\n",
        "\u23a2                       l                                     \u23a5\n",
        "\u23a2                                                             \u23a5\n",
        "\u23a2                               -1                            \u23a5\n",
        "\u23a2 0        0            0       \u2500\u2500\u2500       0             0     \u23a5\n",
        "\u23a3                                l                            \u23a6"
       ]
      }
     ],
     "prompt_number": 15
    },
    {
     "cell_type": "code",
     "collapsed": false,
     "input": [
      "B[:, 6:]"
     ],
     "language": "python",
     "metadata": {},
     "outputs": [
      {
       "latex": [
        "$$\\left[\\begin{matrix}\\frac{1}{l} & 0 & 0 & 0 & 0 & 0\\\\0 & \\frac{1}{l^{2}} \\left(- 12 \\xi + 6\\right) & 0 & 0 & 0 & \\frac{1}{l} \\left(6 \\xi - 2\\right)\\\\0 & 0 & \\frac{1}{l^{2}} \\left(- 12 \\xi + 6\\right) & 0 & \\frac{1}{l} \\left(- 6 \\xi + 2\\right) & 0\\\\0 & 0 & 0 & \\frac{1}{l} & 0 & 0\\end{matrix}\\right]$$"
       ],
       "metadata": {},
       "output_type": "pyout",
       "png": "[encoded data removed]",
       "prompt_number": 16,
       "text": [
        "\u23a11                                                          \u23a4\n",
        "\u23a2\u2500       0             0        0       0             0     \u23a5\n",
        "\u23a2l                                                          \u23a5\n",
        "\u23a2                                                           \u23a5\n",
        "\u23a2   6\u22c5(-2\u22c5\u03be + 1)                                 2\u22c5(3\u22c5\u03be - 1)\u23a5\n",
        "\u23a20  \u2500\u2500\u2500\u2500\u2500\u2500\u2500\u2500\u2500\u2500\u2500\u2500       0        0       0        \u2500\u2500\u2500\u2500\u2500\u2500\u2500\u2500\u2500\u2500\u2500\u23a5\n",
        "\u23a2         2                                           l     \u23a5\n",
        "\u23a2        l                                                  \u23a5\n",
        "\u23a2                                                           \u23a5\n",
        "\u23a2                 6\u22c5(-2\u22c5\u03be + 1)     2\u22c5(-3\u22c5\u03be + 1)             \u23a5\n",
        "\u23a20       0        \u2500\u2500\u2500\u2500\u2500\u2500\u2500\u2500\u2500\u2500\u2500\u2500  0  \u2500\u2500\u2500\u2500\u2500\u2500\u2500\u2500\u2500\u2500\u2500\u2500       0     \u23a5\n",
        "\u23a2                       2               l                   \u23a5\n",
        "\u23a2                      l                                    \u23a5\n",
        "\u23a2                                                           \u23a5\n",
        "\u23a2                               1                           \u23a5\n",
        "\u23a20       0             0        \u2500       0             0     \u23a5\n",
        "\u23a3                               l                           \u23a6"
       ]
      }
     ],
     "prompt_number": 16
    },
    {
     "cell_type": "code",
     "collapsed": false,
     "input": [
      "titles = ['x-defl', 'y-defl', 'z-defl', 'torsion']\n",
      "for i in range(4):\n",
      "    sympy.plot(*([xx.subs(l, 2) for xx in B[i,:] if xx != 0] + [(xi, 0, 1)]), \n",
      "               title=titles[i])"
     ],
     "language": "python",
     "metadata": {},
     "outputs": [
      {
       "metadata": {},
       "output_type": "display_data",
       "png": "[encoded data removed]",
       "text": [
        "<matplotlib.figure.Figure at 0x7f38a01b8910>"
       ]
      },
      {
       "metadata": {},
       "output_type": "display_data",
       "png": "[encoded data removed]",
       "text": [
        "<matplotlib.figure.Figure at 0x7f38a0198490>"
       ]
      },
      {
       "metadata": {},
       "output_type": "display_data",
       "png": "[encoded data removed]",
       "text": [
        "<matplotlib.figure.Figure at 0x7f389bdae350>"
       ]
      },
      {
       "metadata": {},
       "output_type": "display_data",
       "png": "[encoded data removed]",
       "text": [
        "<matplotlib.figure.Figure at 0x7f38a0288bd0>"
       ]
      }
     ],
     "prompt_number": 17
    },
    {
     "cell_type": "markdown",
     "metadata": {},
     "source": [
      "Define the stiffness distribution (linear):"
     ]
    },
    {
     "cell_type": "code",
     "collapsed": false,
     "input": [
      "EA1, EA2, EIy1, EIy2, EIz1, EIz2, GJ1, GJ2 = symbols('EA_1, EA_2, EIy_1, EIy_2, EIz_1, EIz_2, GJ_1, GJ_2')\n",
      "EA  = (1 - xi)*EA1  + xi*EA2\n",
      "EIy = (1 - xi)*EIy1 + xi*EIy2\n",
      "EIz = (1 - xi)*EIz1 + xi*EIz2\n",
      "GJ  = (1 - xi)*GJ1  + xi*GJ2\n",
      "EA, EIy, EIz, GJ"
     ],
     "language": "python",
     "metadata": {},
     "outputs": [
      {
       "latex": [
        "$$\\begin{pmatrix}EA_{1} \\left(- \\xi + 1\\right) + EA_{2} \\xi, & EIy_{1} \\left(- \\xi + 1\\right) + EIy_{2} \\xi, & EIz_{1} \\left(- \\xi + 1\\right) + EIz_{2} \\xi, & GJ_{1} \\left(- \\xi + 1\\right) + GJ_{2} \\xi\\end{pmatrix}$$"
       ],
       "metadata": {},
       "output_type": "pyout",
       "png": "[encoded data removed]",
       "prompt_number": 18,
       "text": [
        "(EA\u2081\u22c5(-\u03be + 1) + EA\u2082\u22c5\u03be, EIy\u2081\u22c5(-\u03be + 1) + EIy\u2082\u22c5\u03be, EIz\u2081\u22c5(-\u03be + 1) + EIz\u2082\u22c5\u03be, GJ\u2081\u22c5(-\u03be\n",
        " + 1) + GJ\u2082\u22c5\u03be)"
       ]
      }
     ],
     "prompt_number": 18
    },
    {
     "cell_type": "markdown",
     "metadata": {},
     "source": [
      "Note that $EI_y$ refers to the stiffness for bending in the $y$-direction, not about the $y$ axis.\n",
      "\n",
      "Try and simplify results by using the average values where they come up"
     ]
    },
    {
     "cell_type": "code",
     "collapsed": false,
     "input": [
      "Ex, Ey, Ez, Gx = symbols('E_x, E_y, E_z, G_x')"
     ],
     "language": "python",
     "metadata": {},
     "outputs": [],
     "prompt_number": 19
    },
    {
     "cell_type": "code",
     "collapsed": false,
     "input": [
      "def sym_ke():\n",
      "    # Note the order -- y deflections depend on EIz etc\n",
      "    E = Matrix(np.diag([EA, EIz, EIy, GJ]))\n",
      "    integrand = B.T * E * B\n",
      "    ke = integrand.applyfunc(\n",
      "        lambda xxx: l * sympy.integrate(xxx, (xi, 0, 1)).factor() #.subs((EA1+EA2), 2*Ex) #.expand().factor()\n",
      "    )\n",
      "    return ke\n",
      "ke = sym_ke()\n",
      "\n",
      "def simplify_ke(ke, EI=False):\n",
      "    result = ke.applyfunc(\n",
      "        lambda xxx: xxx.subs((EA1+EA2), 2*Ex).subs((GJ1+GJ2), 2*Gx))\n",
      "    if EI:\n",
      "        result = result.applyfunc(\n",
      "            lambda xxx: xxx.subs((EIy1+EIy2), 2*Ey).subs((EIz1+EIz2), 2*Ez))\n",
      "    return result\n",
      "kem = simplify_ke(ke, True)"
     ],
     "language": "python",
     "metadata": {},
     "outputs": [],
     "prompt_number": 20
    },
    {
     "cell_type": "code",
     "collapsed": false,
     "input": [
      "kem[:, :6]"
     ],
     "language": "python",
     "metadata": {},
     "outputs": [
      {
       "latex": [
        "$$\\left[\\begin{matrix}\\frac{E_{x}}{l} & 0 & 0 & 0 & 0 & 0\\\\0 & \\frac{12 E_{z}}{l^{3}} & 0 & 0 & 0 & \\frac{1}{l^{2}} \\left(4 EIz_{1} + 2 EIz_{2}\\right)\\\\0 & 0 & \\frac{12 E_{y}}{l^{3}} & 0 & - \\frac{1}{l^{2}} \\left(4 EIy_{1} + 2 EIy_{2}\\right) & 0\\\\0 & 0 & 0 & \\frac{G_{x}}{l} & 0 & 0\\\\0 & 0 & - \\frac{1}{l^{2}} \\left(4 EIy_{1} + 2 EIy_{2}\\right) & 0 & \\frac{1}{l} \\left(3 EIy_{1} + EIy_{2}\\right) & 0\\\\0 & \\frac{1}{l^{2}} \\left(4 EIz_{1} + 2 EIz_{2}\\right) & 0 & 0 & 0 & \\frac{1}{l} \\left(3 EIz_{1} + EIz_{2}\\right)\\\\- \\frac{E_{x}}{l} & 0 & 0 & 0 & 0 & 0\\\\0 & - \\frac{12 E_{z}}{l^{3}} & 0 & 0 & 0 & - \\frac{1}{l^{2}} \\left(4 EIz_{1} + 2 EIz_{2}\\right)\\\\0 & 0 & - \\frac{12 E_{y}}{l^{3}} & 0 & \\frac{1}{l^{2}} \\left(4 EIy_{1} + 2 EIy_{2}\\right) & 0\\\\0 & 0 & 0 & - \\frac{G_{x}}{l} & 0 & 0\\\\0 & 0 & - \\frac{1}{l^{2}} \\left(2 EIy_{1} + 4 EIy_{2}\\right) & 0 & \\frac{2 E_{y}}{l} & 0\\\\0 & \\frac{1}{l^{2}} \\left(2 EIz_{1} + 4 EIz_{2}\\right) & 0 & 0 & 0 & \\frac{2 E_{z}}{l}\\end{matrix}\\right]$$"
       ],
       "metadata": {},
       "output_type": "pyout",
       "png": "[encoded data removed]",
       "prompt_number": 21,
       "text": [
        "\u23a1 E\u2093                                                                          \n",
        "\u23a2 \u2500\u2500           0                   0            0             0               \n",
        "\u23a2 l                                                                           \n",
        "\u23a2                                                                             \n",
        "\u23a2           12\u22c5E_z                                                         2\u22c5(\n",
        "\u23a2 0         \u2500\u2500\u2500\u2500\u2500\u2500                 0            0             0            \u2500\u2500\u2500\n",
        "\u23a2              3                                                              \n",
        "\u23a2             l                                                               \n",
        "\u23a2                                                                             \n",
        "\u23a2                               12\u22c5E_y               -2\u22c5(2\u22c5EIy\u2081 + EIy\u2082)       \n",
        "\u23a2 0            0                \u2500\u2500\u2500\u2500\u2500\u2500          0    \u2500\u2500\u2500\u2500\u2500\u2500\u2500\u2500\u2500\u2500\u2500\u2500\u2500\u2500\u2500\u2500\u2500\u2500\u2500      \n",
        "\u23a2                                  3                           2              \n",
        "\u23a2                                 l                           l               \n",
        "\u23a2                                                                             \n",
        "\u23a2                                               G\u2093                            \n",
        "\u23a2 0            0                   0            \u2500\u2500            0               \n",
        "\u23a2                                               l                             \n",
        "\u23a2                                                                             \n",
        "\u23a2                         -2\u22c5(2\u22c5EIy\u2081 + EIy\u2082)            3\u22c5EIy\u2081 + EIy\u2082         \n",
        "\u23a2 0            0          \u2500\u2500\u2500\u2500\u2500\u2500\u2500\u2500\u2500\u2500\u2500\u2500\u2500\u2500\u2500\u2500\u2500\u2500\u2500   0       \u2500\u2500\u2500\u2500\u2500\u2500\u2500\u2500\u2500\u2500\u2500\u2500\u2500         \n",
        "\u23a2                                   2                         l               \n",
        "\u23a2                                  l                                          \n",
        "\u23a2                                                                             \n",
        "\u23a2      2\u22c5(2\u22c5EIz\u2081 + EIz\u2082)                                                     3\n",
        "\u23a2 0    \u2500\u2500\u2500\u2500\u2500\u2500\u2500\u2500\u2500\u2500\u2500\u2500\u2500\u2500\u2500\u2500\u2500           0            0             0              \u2500\n",
        "\u23a2               2                                                             \n",
        "\u23a2              l                                                              \n",
        "\u23a2                                                                             \n",
        "\u23a2-E\u2093                                                                          \n",
        "\u23a2\u2500\u2500\u2500\u2500          0                   0            0             0               \n",
        "\u23a2 l                                                                           \n",
        "\u23a2                                                                             \n",
        "\u23a2          -12\u22c5E_z                                                        -2\u22c5(\n",
        "\u23a2 0        \u2500\u2500\u2500\u2500\u2500\u2500\u2500\u2500                0            0             0           \u2500\u2500\u2500\u2500\n",
        "\u23a2              3                                                              \n",
        "\u23a2             l                                                               \n",
        "\u23a2                                                                             \n",
        "\u23a2                              -12\u22c5E_y                2\u22c5(2\u22c5EIy\u2081 + EIy\u2082)       \n",
        "\u23a2 0            0               \u2500\u2500\u2500\u2500\u2500\u2500\u2500\u2500         0     \u2500\u2500\u2500\u2500\u2500\u2500\u2500\u2500\u2500\u2500\u2500\u2500\u2500\u2500\u2500\u2500\u2500       \n",
        "\u23a2                                  3                           2              \n",
        "\u23a2                                 l                           l               \n",
        "\u23a2                                                                             \n",
        "\u23a2                                              -G\u2093                            \n",
        "\u23a2 0            0                   0           \u2500\u2500\u2500\u2500           0               \n",
        "\u23a2                                               l                             \n",
        "\u23a2                                                                             \n",
        "\u23a2                         -2\u22c5(EIy\u2081 + 2\u22c5EIy\u2082)                2\u22c5E_y             \n",
        "\u23a2 0            0          \u2500\u2500\u2500\u2500\u2500\u2500\u2500\u2500\u2500\u2500\u2500\u2500\u2500\u2500\u2500\u2500\u2500\u2500\u2500   0           \u2500\u2500\u2500\u2500\u2500             \n",
        "\u23a2                                   2                         l               \n",
        "\u23a2                                  l                                          \n",
        "\u23a2                                                                             \n",
        "\u23a2      2\u22c5(EIz\u2081 + 2\u22c5EIz\u2082)                                                      \n",
        "\u23a2 0    \u2500\u2500\u2500\u2500\u2500\u2500\u2500\u2500\u2500\u2500\u2500\u2500\u2500\u2500\u2500\u2500\u2500           0            0             0               \n",
        "\u23a2               2                                                             \n",
        "\u23a3              l                                                              \n",
        "\n",
        "               \u23a4\n",
        "     0         \u23a5\n",
        "               \u23a5\n",
        "               \u23a5\n",
        "2\u22c5EIz\u2081 + EIz\u2082) \u23a5\n",
        "\u2500\u2500\u2500\u2500\u2500\u2500\u2500\u2500\u2500\u2500\u2500\u2500\u2500\u2500 \u23a5\n",
        "      2        \u23a5\n",
        "     l         \u23a5\n",
        "               \u23a5\n",
        "               \u23a5\n",
        "     0         \u23a5\n",
        "               \u23a5\n",
        "               \u23a5\n",
        "               \u23a5\n",
        "               \u23a5\n",
        "     0         \u23a5\n",
        "               \u23a5\n",
        "               \u23a5\n",
        "               \u23a5\n",
        "     0         \u23a5\n",
        "               \u23a5\n",
        "               \u23a5\n",
        "               \u23a5\n",
        "\u22c5EIz\u2081 + EIz\u2082   \u23a5\n",
        "\u2500\u2500\u2500\u2500\u2500\u2500\u2500\u2500\u2500\u2500\u2500\u2500   \u23a5\n",
        "     l         \u23a5\n",
        "               \u23a5\n",
        "               \u23a5\n",
        "               \u23a5\n",
        "     0         \u23a5\n",
        "               \u23a5\n",
        "               \u23a5\n",
        "2\u22c5EIz\u2081 + EIz\u2082) \u23a5\n",
        "\u2500\u2500\u2500\u2500\u2500\u2500\u2500\u2500\u2500\u2500\u2500\u2500\u2500\u2500\u2500\u23a5\n",
        "      2        \u23a5\n",
        "     l         \u23a5\n",
        "               \u23a5\n",
        "               \u23a5\n",
        "     0         \u23a5\n",
        "               \u23a5\n",
        "               \u23a5\n",
        "               \u23a5\n",
        "               \u23a5\n",
        "     0         \u23a5\n",
        "               \u23a5\n",
        "               \u23a5\n",
        "               \u23a5\n",
        "     0         \u23a5\n",
        "               \u23a5\n",
        "               \u23a5\n",
        "               \u23a5\n",
        "   2\u22c5E_z       \u23a5\n",
        "   \u2500\u2500\u2500\u2500\u2500       \u23a5\n",
        "     l         \u23a5\n",
        "               \u23a6"
       ]
      }
     ],
     "prompt_number": 21
    },
    {
     "cell_type": "code",
     "collapsed": false,
     "input": [
      "kem[:, 6:]"
     ],
     "language": "python",
     "metadata": {},
     "outputs": [
      {
       "latex": [
        "$$\\left[\\begin{matrix}- \\frac{E_{x}}{l} & 0 & 0 & 0 & 0 & 0\\\\0 & - \\frac{12 E_{z}}{l^{3}} & 0 & 0 & 0 & \\frac{1}{l^{2}} \\left(2 EIz_{1} + 4 EIz_{2}\\right)\\\\0 & 0 & - \\frac{12 E_{y}}{l^{3}} & 0 & - \\frac{1}{l^{2}} \\left(2 EIy_{1} + 4 EIy_{2}\\right) & 0\\\\0 & 0 & 0 & - \\frac{G_{x}}{l} & 0 & 0\\\\0 & 0 & \\frac{1}{l^{2}} \\left(4 EIy_{1} + 2 EIy_{2}\\right) & 0 & \\frac{2 E_{y}}{l} & 0\\\\0 & - \\frac{1}{l^{2}} \\left(4 EIz_{1} + 2 EIz_{2}\\right) & 0 & 0 & 0 & \\frac{2 E_{z}}{l}\\\\\\frac{E_{x}}{l} & 0 & 0 & 0 & 0 & 0\\\\0 & \\frac{12 E_{z}}{l^{3}} & 0 & 0 & 0 & - \\frac{1}{l^{2}} \\left(2 EIz_{1} + 4 EIz_{2}\\right)\\\\0 & 0 & \\frac{12 E_{y}}{l^{3}} & 0 & \\frac{1}{l^{2}} \\left(2 EIy_{1} + 4 EIy_{2}\\right) & 0\\\\0 & 0 & 0 & \\frac{G_{x}}{l} & 0 & 0\\\\0 & 0 & \\frac{1}{l^{2}} \\left(2 EIy_{1} + 4 EIy_{2}\\right) & 0 & \\frac{1}{l} \\left(EIy_{1} + 3 EIy_{2}\\right) & 0\\\\0 & - \\frac{1}{l^{2}} \\left(2 EIz_{1} + 4 EIz_{2}\\right) & 0 & 0 & 0 & \\frac{1}{l} \\left(EIz_{1} + 3 EIz_{2}\\right)\\end{matrix}\\right]$$"
       ],
       "metadata": {},
       "output_type": "pyout",
       "png": "[encoded data removed]",
       "prompt_number": 22,
       "text": [
        "\u23a1-E\u2093                                                                          \n",
        "\u23a2\u2500\u2500\u2500\u2500           0                   0           0             0               \n",
        "\u23a2 l                                                                           \n",
        "\u23a2                                                                             \n",
        "\u23a2           -12\u22c5E_z                                                        2\u22c5(\n",
        "\u23a2 0         \u2500\u2500\u2500\u2500\u2500\u2500\u2500\u2500                0           0             0            \u2500\u2500\u2500\n",
        "\u23a2               3                                                             \n",
        "\u23a2              l                                                              \n",
        "\u23a2                                                                             \n",
        "\u23a2                               -12\u22c5E_y              -2\u22c5(EIy\u2081 + 2\u22c5EIy\u2082)       \n",
        "\u23a2 0             0               \u2500\u2500\u2500\u2500\u2500\u2500\u2500\u2500        0    \u2500\u2500\u2500\u2500\u2500\u2500\u2500\u2500\u2500\u2500\u2500\u2500\u2500\u2500\u2500\u2500\u2500\u2500\u2500      \n",
        "\u23a2                                   3                          2              \n",
        "\u23a2                                  l                          l               \n",
        "\u23a2                                                                             \n",
        "\u23a2                                              -G\u2093                            \n",
        "\u23a2 0             0                   0          \u2500\u2500\u2500\u2500           0               \n",
        "\u23a2                                               l                             \n",
        "\u23a2                                                                             \n",
        "\u23a2                           2\u22c5(2\u22c5EIy\u2081 + EIy\u2082)               2\u22c5E_y             \n",
        "\u23a2 0             0           \u2500\u2500\u2500\u2500\u2500\u2500\u2500\u2500\u2500\u2500\u2500\u2500\u2500\u2500\u2500\u2500\u2500   0           \u2500\u2500\u2500\u2500\u2500             \n",
        "\u23a2                                    2                        l               \n",
        "\u23a2                                   l                                         \n",
        "\u23a2                                                                             \n",
        "\u23a2      -2\u22c5(2\u22c5EIz\u2081 + EIz\u2082)                                                     \n",
        "\u23a2 0    \u2500\u2500\u2500\u2500\u2500\u2500\u2500\u2500\u2500\u2500\u2500\u2500\u2500\u2500\u2500\u2500\u2500\u2500\u2500          0           0             0               \n",
        "\u23a2                2                                                            \n",
        "\u23a2               l                                                             \n",
        "\u23a2                                                                             \n",
        "\u23a2 E\u2093                                                                          \n",
        "\u23a2 \u2500\u2500            0                   0           0             0               \n",
        "\u23a2 l                                                                           \n",
        "\u23a2                                                                             \n",
        "\u23a2            12\u22c5E_z                                                       -2\u22c5(\n",
        "\u23a2 0          \u2500\u2500\u2500\u2500\u2500\u2500                 0           0             0           \u2500\u2500\u2500\u2500\n",
        "\u23a2               3                                                             \n",
        "\u23a2              l                                                              \n",
        "\u23a2                                                                             \n",
        "\u23a2                                12\u22c5E_y               2\u22c5(EIy\u2081 + 2\u22c5EIy\u2082)       \n",
        "\u23a2 0             0                \u2500\u2500\u2500\u2500\u2500\u2500         0     \u2500\u2500\u2500\u2500\u2500\u2500\u2500\u2500\u2500\u2500\u2500\u2500\u2500\u2500\u2500\u2500\u2500       \n",
        "\u23a2                                   3                          2              \n",
        "\u23a2                                  l                          l               \n",
        "\u23a2                                                                             \n",
        "\u23a2                                               G\u2093                            \n",
        "\u23a2 0             0                   0           \u2500\u2500            0               \n",
        "\u23a2                                               l                             \n",
        "\u23a2                                                                             \n",
        "\u23a2                           2\u22c5(EIy\u2081 + 2\u22c5EIy\u2082)           EIy\u2081 + 3\u22c5EIy\u2082         \n",
        "\u23a2 0             0           \u2500\u2500\u2500\u2500\u2500\u2500\u2500\u2500\u2500\u2500\u2500\u2500\u2500\u2500\u2500\u2500\u2500   0       \u2500\u2500\u2500\u2500\u2500\u2500\u2500\u2500\u2500\u2500\u2500\u2500\u2500         \n",
        "\u23a2                                    2                        l               \n",
        "\u23a2                                   l                                         \n",
        "\u23a2                                                                             \n",
        "\u23a2      -2\u22c5(EIz\u2081 + 2\u22c5EIz\u2082)                                                    E\n",
        "\u23a2 0    \u2500\u2500\u2500\u2500\u2500\u2500\u2500\u2500\u2500\u2500\u2500\u2500\u2500\u2500\u2500\u2500\u2500\u2500\u2500          0           0             0              \u2500\n",
        "\u23a2                2                                                            \n",
        "\u23a3               l                                                             \n",
        "\n",
        "               \u23a4\n",
        "     0         \u23a5\n",
        "               \u23a5\n",
        "               \u23a5\n",
        "EIz\u2081 + 2\u22c5EIz\u2082) \u23a5\n",
        "\u2500\u2500\u2500\u2500\u2500\u2500\u2500\u2500\u2500\u2500\u2500\u2500\u2500\u2500 \u23a5\n",
        "      2        \u23a5\n",
        "     l         \u23a5\n",
        "               \u23a5\n",
        "               \u23a5\n",
        "     0         \u23a5\n",
        "               \u23a5\n",
        "               \u23a5\n",
        "               \u23a5\n",
        "               \u23a5\n",
        "     0         \u23a5\n",
        "               \u23a5\n",
        "               \u23a5\n",
        "               \u23a5\n",
        "     0         \u23a5\n",
        "               \u23a5\n",
        "               \u23a5\n",
        "               \u23a5\n",
        "   2\u22c5E_z       \u23a5\n",
        "   \u2500\u2500\u2500\u2500\u2500       \u23a5\n",
        "     l         \u23a5\n",
        "               \u23a5\n",
        "               \u23a5\n",
        "               \u23a5\n",
        "     0         \u23a5\n",
        "               \u23a5\n",
        "               \u23a5\n",
        "EIz\u2081 + 2\u22c5EIz\u2082) \u23a5\n",
        "\u2500\u2500\u2500\u2500\u2500\u2500\u2500\u2500\u2500\u2500\u2500\u2500\u2500\u2500\u2500\u23a5\n",
        "      2        \u23a5\n",
        "     l         \u23a5\n",
        "               \u23a5\n",
        "               \u23a5\n",
        "     0         \u23a5\n",
        "               \u23a5\n",
        "               \u23a5\n",
        "               \u23a5\n",
        "               \u23a5\n",
        "     0         \u23a5\n",
        "               \u23a5\n",
        "               \u23a5\n",
        "               \u23a5\n",
        "     0         \u23a5\n",
        "               \u23a5\n",
        "               \u23a5\n",
        "               \u23a5\n",
        "Iz\u2081 + 3\u22c5EIz\u2082   \u23a5\n",
        "\u2500\u2500\u2500\u2500\u2500\u2500\u2500\u2500\u2500\u2500\u2500\u2500   \u23a5\n",
        "     l         \u23a5\n",
        "               \u23a6"
       ]
      }
     ],
     "prompt_number": 22
    },
    {
     "cell_type": "markdown",
     "metadata": {},
     "source": [
      "Special case: uniform stiffness."
     ]
    },
    {
     "cell_type": "code",
     "collapsed": false,
     "input": [
      "kem.subs({EA1: Ex, EA2: Ex, EIy1: Ey, EIy2: Ey, EIz1: Ez, EIz2: Ez})"
     ],
     "language": "python",
     "metadata": {},
     "outputs": [
      {
       "latex": [
        "$$\\left[\\begin{array}{cccccccccccc}\\frac{E_{x}}{l} & 0 & 0 & 0 & 0 & 0 & - \\frac{E_{x}}{l} & 0 & 0 & 0 & 0 & 0\\\\0 & \\frac{12 E_{z}}{l^{3}} & 0 & 0 & 0 & \\frac{6 E_{z}}{l^{2}} & 0 & - \\frac{12 E_{z}}{l^{3}} & 0 & 0 & 0 & \\frac{6 E_{z}}{l^{2}}\\\\0 & 0 & \\frac{12 E_{y}}{l^{3}} & 0 & - \\frac{6 E_{y}}{l^{2}} & 0 & 0 & 0 & - \\frac{12 E_{y}}{l^{3}} & 0 & - \\frac{6 E_{y}}{l^{2}} & 0\\\\0 & 0 & 0 & \\frac{G_{x}}{l} & 0 & 0 & 0 & 0 & 0 & - \\frac{G_{x}}{l} & 0 & 0\\\\0 & 0 & - \\frac{6 E_{y}}{l^{2}} & 0 & \\frac{4 E_{y}}{l} & 0 & 0 & 0 & \\frac{6 E_{y}}{l^{2}} & 0 & \\frac{2 E_{y}}{l} & 0\\\\0 & \\frac{6 E_{z}}{l^{2}} & 0 & 0 & 0 & \\frac{4 E_{z}}{l} & 0 & - \\frac{6 E_{z}}{l^{2}} & 0 & 0 & 0 & \\frac{2 E_{z}}{l}\\\\- \\frac{E_{x}}{l} & 0 & 0 & 0 & 0 & 0 & \\frac{E_{x}}{l} & 0 & 0 & 0 & 0 & 0\\\\0 & - \\frac{12 E_{z}}{l^{3}} & 0 & 0 & 0 & - \\frac{6 E_{z}}{l^{2}} & 0 & \\frac{12 E_{z}}{l^{3}} & 0 & 0 & 0 & - \\frac{6 E_{z}}{l^{2}}\\\\0 & 0 & - \\frac{12 E_{y}}{l^{3}} & 0 & \\frac{6 E_{y}}{l^{2}} & 0 & 0 & 0 & \\frac{12 E_{y}}{l^{3}} & 0 & \\frac{6 E_{y}}{l^{2}} & 0\\\\0 & 0 & 0 & - \\frac{G_{x}}{l} & 0 & 0 & 0 & 0 & 0 & \\frac{G_{x}}{l} & 0 & 0\\\\0 & 0 & - \\frac{6 E_{y}}{l^{2}} & 0 & \\frac{2 E_{y}}{l} & 0 & 0 & 0 & \\frac{6 E_{y}}{l^{2}} & 0 & \\frac{4 E_{y}}{l} & 0\\\\0 & \\frac{6 E_{z}}{l^{2}} & 0 & 0 & 0 & \\frac{2 E_{z}}{l} & 0 & - \\frac{6 E_{z}}{l^{2}} & 0 & 0 & 0 & \\frac{4 E_{z}}{l}\\end{array}\\right]$$"
       ],
       "metadata": {},
       "output_type": "pyout",
       "png": "[encoded data removed]",
       "prompt_number": 23,
       "text": [
        "\u23a1 E\u2093                                               -E\u2093                        \n",
        "\u23a2 \u2500\u2500      0         0       0       0        0     \u2500\u2500\u2500\u2500     0         0       \n",
        "\u23a2 l                                                 l                         \n",
        "\u23a2                                                                             \n",
        "\u23a2       12\u22c5E_z                             6\u22c5E_z         -12\u22c5E_z              \n",
        "\u23a2 0     \u2500\u2500\u2500\u2500\u2500\u2500      0       0       0      \u2500\u2500\u2500\u2500\u2500    0    \u2500\u2500\u2500\u2500\u2500\u2500\u2500\u2500     0       \n",
        "\u23a2          3                                  2              3                \n",
        "\u23a2         l                                  l              l                 \n",
        "\u23a2                                                                             \n",
        "\u23a2                 12\u22c5E_y         -6\u22c5E_y                            -12\u22c5E_y    \n",
        "\u23a2 0       0       \u2500\u2500\u2500\u2500\u2500\u2500    0    \u2500\u2500\u2500\u2500\u2500\u2500\u2500     0      0       0      \u2500\u2500\u2500\u2500\u2500\u2500\u2500\u2500   \n",
        "\u23a2                    3               2                                 3      \n",
        "\u23a2                   l               l                                 l       \n",
        "\u23a2                                                                             \n",
        "\u23a2                           G\u2093                                               -\n",
        "\u23a2 0       0         0       \u2500\u2500      0        0      0       0         0      \u2500\n",
        "\u23a2                           l                                                 \n",
        "\u23a2                                                                             \n",
        "\u23a2                -6\u22c5E_y           4\u22c5E_y                             6\u22c5E_y     \n",
        "\u23a2 0       0      \u2500\u2500\u2500\u2500\u2500\u2500\u2500    0     \u2500\u2500\u2500\u2500\u2500      0      0       0       \u2500\u2500\u2500\u2500\u2500     \n",
        "\u23a2                    2              l                                  2      \n",
        "\u23a2                   l                                                 l       \n",
        "\u23a2                                                                             \n",
        "\u23a2       6\u22c5E_z                              4\u22c5E_z         -6\u22c5E_z               \n",
        "\u23a2 0     \u2500\u2500\u2500\u2500\u2500       0       0       0      \u2500\u2500\u2500\u2500\u2500    0    \u2500\u2500\u2500\u2500\u2500\u2500\u2500      0       \n",
        "\u23a2          2                                 l               2                \n",
        "\u23a2         l                                                 l                 \n",
        "\u23a2                                                                             \n",
        "\u23a2-E\u2093                                                E\u2093                        \n",
        "\u23a2\u2500\u2500\u2500\u2500     0         0       0       0        0      \u2500\u2500      0         0       \n",
        "\u23a2 l                                                 l                         \n",
        "\u23a2                                                                             \n",
        "\u23a2      -12\u22c5E_z                            -6\u22c5E_z          12\u22c5E_z              \n",
        "\u23a2 0    \u2500\u2500\u2500\u2500\u2500\u2500\u2500\u2500     0       0       0     \u2500\u2500\u2500\u2500\u2500\u2500\u2500   0     \u2500\u2500\u2500\u2500\u2500\u2500      0       \n",
        "\u23a2          3                                  2              3                \n",
        "\u23a2         l                                  l              l                 \n",
        "\u23a2                                                                             \n",
        "\u23a2                -12\u22c5E_y          6\u22c5E_y                             12\u22c5E_y    \n",
        "\u23a2 0       0      \u2500\u2500\u2500\u2500\u2500\u2500\u2500\u2500   0     \u2500\u2500\u2500\u2500\u2500      0      0       0       \u2500\u2500\u2500\u2500\u2500\u2500    \n",
        "\u23a2                    3               2                                 3      \n",
        "\u23a2                   l               l                                 l       \n",
        "\u23a2                                                                             \n",
        "\u23a2                          -G\u2093                                                \n",
        "\u23a2 0       0         0      \u2500\u2500\u2500\u2500     0        0      0       0         0       \n",
        "\u23a2                           l                                                 \n",
        "\u23a2                                                                             \n",
        "\u23a2                -6\u22c5E_y           2\u22c5E_y                             6\u22c5E_y     \n",
        "\u23a2 0       0      \u2500\u2500\u2500\u2500\u2500\u2500\u2500    0     \u2500\u2500\u2500\u2500\u2500      0      0       0       \u2500\u2500\u2500\u2500\u2500     \n",
        "\u23a2                    2              l                                  2      \n",
        "\u23a2                   l                                                 l       \n",
        "\u23a2                                                                             \n",
        "\u23a2       6\u22c5E_z                              2\u22c5E_z         -6\u22c5E_z               \n",
        "\u23a2 0     \u2500\u2500\u2500\u2500\u2500       0       0       0      \u2500\u2500\u2500\u2500\u2500    0    \u2500\u2500\u2500\u2500\u2500\u2500\u2500      0       \n",
        "\u23a2          2                                 l               2                \n",
        "\u23a3         l                                                 l                 \n",
        "\n",
        "                     \u23a4\n",
        "0       0        0   \u23a5\n",
        "                     \u23a5\n",
        "                     \u23a5\n",
        "               6\u22c5E_z \u23a5\n",
        "0       0      \u2500\u2500\u2500\u2500\u2500 \u23a5\n",
        "                  2  \u23a5\n",
        "                 l   \u23a5\n",
        "                     \u23a5\n",
        "     -6\u22c5E_y          \u23a5\n",
        "0    \u2500\u2500\u2500\u2500\u2500\u2500\u2500     0   \u23a5\n",
        "         2           \u23a5\n",
        "        l            \u23a5\n",
        "                     \u23a5\n",
        "G\u2093                   \u23a5\n",
        "\u2500\u2500\u2500     0        0   \u23a5\n",
        "l                    \u23a5\n",
        "                     \u23a5\n",
        "      2\u22c5E_y          \u23a5\n",
        "0     \u2500\u2500\u2500\u2500\u2500      0   \u23a5\n",
        "        l            \u23a5\n",
        "                     \u23a5\n",
        "                     \u23a5\n",
        "               2\u22c5E_z \u23a5\n",
        "0       0      \u2500\u2500\u2500\u2500\u2500 \u23a5\n",
        "                 l   \u23a5\n",
        "                     \u23a5\n",
        "                     \u23a5\n",
        "                     \u23a5\n",
        "0       0        0   \u23a5\n",
        "                     \u23a5\n",
        "                     \u23a5\n",
        "              -6\u22c5E_z \u23a5\n",
        "0       0     \u2500\u2500\u2500\u2500\u2500\u2500\u2500\u23a5\n",
        "                  2  \u23a5\n",
        "                 l   \u23a5\n",
        "                     \u23a5\n",
        "      6\u22c5E_y          \u23a5\n",
        "0     \u2500\u2500\u2500\u2500\u2500      0   \u23a5\n",
        "         2           \u23a5\n",
        "        l            \u23a5\n",
        "                     \u23a5\n",
        "G\u2093                   \u23a5\n",
        "\u2500\u2500      0        0   \u23a5\n",
        "l                    \u23a5\n",
        "                     \u23a5\n",
        "      4\u22c5E_y          \u23a5\n",
        "0     \u2500\u2500\u2500\u2500\u2500      0   \u23a5\n",
        "        l            \u23a5\n",
        "                     \u23a5\n",
        "                     \u23a5\n",
        "               4\u22c5E_z \u23a5\n",
        "0       0      \u2500\u2500\u2500\u2500\u2500 \u23a5\n",
        "                 l   \u23a5\n",
        "                     \u23a6"
       ]
      }
     ],
     "prompt_number": 23
    },
    {
     "cell_type": "markdown",
     "metadata": {},
     "source": [
      "This is the same as Rao2004 p.326"
     ]
    },
    {
     "cell_type": "heading",
     "level": 2,
     "metadata": {},
     "source": [
      "Stress stiffening"
     ]
    },
    {
     "cell_type": "markdown",
     "metadata": {},
     "source": [
      "Now derive the stress stiffening (e.g. centrifugal stiffening) matrix. Ref Cook1989.\n",
      "\n",
      "Need the matrix $\\boldsymbol{G}$ such that\n",
      "$$\n",
      "\\begin{bmatrix} u_{,x} \\\\ u_{,y} \\\\ u_{,z} \\\\ v_{,x} \\\\ v_{,y} \\\\ v_{,z} \\\\ w_{,x} \\\\ w_{,y} \\\\ w_{,z} \\\\ \\end{bmatrix} = \\boldsymbol{Gq}\n",
      "$$"
     ]
    },
    {
     "cell_type": "code",
     "collapsed": false,
     "input": [
      "G = Matrix(np.zeros((9, 12)))\n",
      "G[0, :] = S[0, :].diff(xi, 1) / l\n",
      "G[3, :] = S[1, :].diff(xi, 1) / l\n",
      "G[6, :] = S[2, :].diff(xi, 1) / l\n",
      "G.simplify()\n",
      "G"
     ],
     "language": "python",
     "metadata": {},
     "outputs": [
      {
       "latex": [
        "$$\\left[\\begin{array}{cccccccccccc}- \\frac{1}{l} & 0 & 0 & 0 & 0 & 0 & \\frac{1}{l} & 0 & 0 & 0 & 0 & 0\\\\0.0 & 0.0 & 0.0 & 0.0 & 0.0 & 0.0 & 0.0 & 0.0 & 0.0 & 0.0 & 0.0 & 0.0\\\\0.0 & 0.0 & 0.0 & 0.0 & 0.0 & 0.0 & 0.0 & 0.0 & 0.0 & 0.0 & 0.0 & 0.0\\\\0 & \\frac{6 \\xi}{l} \\left(\\xi - 1\\right) & 0 & 0 & 0 & \\left(\\xi - 1\\right) \\left(3 \\xi - 1\\right) & 0 & \\frac{6 \\xi}{l} \\left(- \\xi + 1\\right) & 0 & 0 & 0 & \\xi \\left(3 \\xi - 2\\right)\\\\0.0 & 0.0 & 0.0 & 0.0 & 0.0 & 0.0 & 0.0 & 0.0 & 0.0 & 0.0 & 0.0 & 0.0\\\\0.0 & 0.0 & 0.0 & 0.0 & 0.0 & 0.0 & 0.0 & 0.0 & 0.0 & 0.0 & 0.0 & 0.0\\\\0 & 0 & \\frac{6 \\xi}{l} \\left(\\xi - 1\\right) & 0 & \\left(- 3 \\xi + 1\\right) \\left(\\xi - 1\\right) & 0 & 0 & 0 & \\frac{6 \\xi}{l} \\left(- \\xi + 1\\right) & 0 & \\xi \\left(- 3 \\xi + 2\\right) & 0\\\\0.0 & 0.0 & 0.0 & 0.0 & 0.0 & 0.0 & 0.0 & 0.0 & 0.0 & 0.0 & 0.0 & 0.0\\\\0.0 & 0.0 & 0.0 & 0.0 & 0.0 & 0.0 & 0.0 & 0.0 & 0.0 & 0.0 & 0.0 & 0.0\\end{array}\\right]$$"
       ],
       "metadata": {},
       "output_type": "pyout",
       "png": "[encoded data removed]",
       "prompt_number": 26,
       "text": [
        "\u23a1-1                                                                          1\n",
        "\u23a2\u2500\u2500\u2500       0            0        0           0                   0           \u2500\n",
        "\u23a2 l                                                                          l\n",
        "\u23a2                                                                             \n",
        "\u23a20.0      0.0          0.0      0.0         0.0                 0.0         0.\n",
        "\u23a2                                                                             \n",
        "\u23a20.0      0.0          0.0      0.0         0.0                 0.0         0.\n",
        "\u23a2                                                                             \n",
        "\u23a2     6\u22c5\u03be\u22c5(\u03be - 1)                                                             \n",
        "\u23a2 0   \u2500\u2500\u2500\u2500\u2500\u2500\u2500\u2500\u2500\u2500\u2500       0        0           0           (\u03be - 1)\u22c5(3\u22c5\u03be - 1)   0\n",
        "\u23a2          l                                                                  \n",
        "\u23a2                                                                             \n",
        "\u23a20.0      0.0          0.0      0.0         0.0                 0.0         0.\n",
        "\u23a2                                                                             \n",
        "\u23a20.0      0.0          0.0      0.0         0.0                 0.0         0.\n",
        "\u23a2                                                                             \n",
        "\u23a2                  6\u22c5\u03be\u22c5(\u03be - 1)                                                \n",
        "\u23a2 0        0       \u2500\u2500\u2500\u2500\u2500\u2500\u2500\u2500\u2500\u2500\u2500   0   (-3\u22c5\u03be + 1)\u22c5(\u03be - 1)          0           0\n",
        "\u23a2                       l                                                     \n",
        "\u23a2                                                                             \n",
        "\u23a20.0      0.0          0.0      0.0         0.0                 0.0         0.\n",
        "\u23a2                                                                             \n",
        "\u23a30.0      0.0          0.0      0.0         0.0                 0.0         0.\n",
        "\n",
        "                                                             \u23a4\n",
        "        0             0         0        0             0     \u23a5\n",
        "                                                             \u23a5\n",
        "                                                             \u23a5\n",
        "0      0.0           0.0       0.0      0.0           0.0    \u23a5\n",
        "                                                             \u23a5\n",
        "0      0.0           0.0       0.0      0.0           0.0    \u23a5\n",
        "                                                             \u23a5\n",
        "   6\u22c5\u03be\u22c5(-\u03be + 1)                                              \u23a5\n",
        "   \u2500\u2500\u2500\u2500\u2500\u2500\u2500\u2500\u2500\u2500\u2500\u2500       0         0        0        \u03be\u22c5(3\u22c5\u03be - 2)\u23a5\n",
        "        l                                                    \u23a5\n",
        "                                                             \u23a5\n",
        "0      0.0           0.0       0.0      0.0           0.0    \u23a5\n",
        "                                                             \u23a5\n",
        "0      0.0           0.0       0.0      0.0           0.0    \u23a5\n",
        "                                                             \u23a5\n",
        "                 6\u22c5\u03be\u22c5(-\u03be + 1)                                \u23a5\n",
        "        0        \u2500\u2500\u2500\u2500\u2500\u2500\u2500\u2500\u2500\u2500\u2500\u2500   0   \u03be\u22c5(-3\u22c5\u03be + 2)       0     \u23a5\n",
        "                      l                                      \u23a5\n",
        "                                                             \u23a5\n",
        "0      0.0           0.0       0.0      0.0           0.0    \u23a5\n",
        "                                                             \u23a5\n",
        "0      0.0           0.0       0.0      0.0           0.0    \u23a6"
       ]
      }
     ],
     "prompt_number": 26
    },
    {
     "cell_type": "code",
     "collapsed": false,
     "input": [
      "def sym_ks_axial_force():\n",
      "    # Unit axial force (absorbing area from integral), block matrix 3 times\n",
      "    smat3 = Matrix(9, 9, lambda i, j: 1 if i == j and i % 3 == 0 else 0)\n",
      "    integrand = G.T * smat3 * G\n",
      "    ks = integrand.applyfunc(\n",
      "        lambda xxx: l * sympy.integrate(xxx, (xi, 0, 1)).factor() #.subs((EA1+EA2), 2*Ex) #.expand().factor()\n",
      "    )\n",
      "    return ks\n",
      "ks = sym_ks_axial_force()"
     ],
     "language": "python",
     "metadata": {},
     "outputs": [],
     "prompt_number": 36
    },
    {
     "cell_type": "code",
     "collapsed": false,
     "input": [
      "ks * 30*l"
     ],
     "language": "python",
     "metadata": {},
     "outputs": [
      {
       "latex": [
        "$$\\left[\\begin{array}{cccccccccccc}30 & 0 & 0 & 0 & 0 & 0 & -30 & 0 & 0 & 0 & 0 & 0\\\\0 & 36 & 0 & 0 & 0 & 3 l & 0 & -36 & 0 & 0 & 0 & 3 l\\\\0 & 0 & 36 & 0 & - 3 l & 0 & 0 & 0 & -36 & 0 & - 3 l & 0\\\\0 & 0 & 0 & 0 & 0 & 0 & 0 & 0 & 0 & 0 & 0 & 0\\\\0 & 0 & - 3 l & 0 & 4 l^{2} & 0 & 0 & 0 & 3 l & 0 & - l^{2} & 0\\\\0 & 3 l & 0 & 0 & 0 & 4 l^{2} & 0 & - 3 l & 0 & 0 & 0 & - l^{2}\\\\-30 & 0 & 0 & 0 & 0 & 0 & 30 & 0 & 0 & 0 & 0 & 0\\\\0 & -36 & 0 & 0 & 0 & - 3 l & 0 & 36 & 0 & 0 & 0 & - 3 l\\\\0 & 0 & -36 & 0 & 3 l & 0 & 0 & 0 & 36 & 0 & 3 l & 0\\\\0 & 0 & 0 & 0 & 0 & 0 & 0 & 0 & 0 & 0 & 0 & 0\\\\0 & 0 & - 3 l & 0 & - l^{2} & 0 & 0 & 0 & 3 l & 0 & 4 l^{2} & 0\\\\0 & 3 l & 0 & 0 & 0 & - l^{2} & 0 & - 3 l & 0 & 0 & 0 & 4 l^{2}\\end{array}\\right]$$"
       ],
       "metadata": {},
       "output_type": "pyout",
       "png": "[encoded data removed]",
       "prompt_number": 39,
       "text": [
        "\u23a130    0    0    0   0     0    -30   0     0   0   0     0  \u23a4\n",
        "\u23a2                                                            \u23a5\n",
        "\u23a2 0   36    0    0   0    3\u22c5l    0   -36    0   0   0    3\u22c5l \u23a5\n",
        "\u23a2                                                            \u23a5\n",
        "\u23a2 0    0    36   0  -3\u22c5l   0     0    0    -36  0  -3\u22c5l   0  \u23a5\n",
        "\u23a2                                                            \u23a5\n",
        "\u23a2 0    0    0    0   0     0     0    0     0   0   0     0  \u23a5\n",
        "\u23a2                                                            \u23a5\n",
        "\u23a2                      2                             2       \u23a5\n",
        "\u23a2 0    0   -3\u22c5l  0  4\u22c5l    0     0    0    3\u22c5l  0  -l     0  \u23a5\n",
        "\u23a2                                                            \u23a5\n",
        "\u23a2                            2                             2 \u23a5\n",
        "\u23a2 0   3\u22c5l   0    0   0    4\u22c5l    0   -3\u22c5l   0   0   0    -l  \u23a5\n",
        "\u23a2                                                            \u23a5\n",
        "\u23a2-30   0    0    0   0     0    30    0     0   0   0     0  \u23a5\n",
        "\u23a2                                                            \u23a5\n",
        "\u23a2 0   -36   0    0   0    -3\u22c5l   0    36    0   0   0    -3\u22c5l\u23a5\n",
        "\u23a2                                                            \u23a5\n",
        "\u23a2 0    0   -36   0  3\u22c5l    0     0    0    36   0  3\u22c5l    0  \u23a5\n",
        "\u23a2                                                            \u23a5\n",
        "\u23a2 0    0    0    0   0     0     0    0     0   0   0     0  \u23a5\n",
        "\u23a2                                                            \u23a5\n",
        "\u23a2                     2                               2      \u23a5\n",
        "\u23a2 0    0   -3\u22c5l  0  -l     0     0    0    3\u22c5l  0  4\u22c5l    0  \u23a5\n",
        "\u23a2                                                            \u23a5\n",
        "\u23a2                           2                               2\u23a5\n",
        "\u23a3 0   3\u22c5l   0    0   0    -l     0   -3\u22c5l   0   0   0    4\u22c5l \u23a6"
       ]
      }
     ],
     "prompt_number": 39
    },
    {
     "cell_type": "markdown",
     "metadata": {},
     "source": [
      "This agrees with Cook1989, p.434, for the transverse directions. "
     ]
    },
    {
     "cell_type": "heading",
     "level": 2,
     "metadata": {},
     "source": [
      "Generalised forces"
     ]
    },
    {
     "cell_type": "markdown",
     "metadata": {},
     "source": [
      "Define the force distribution (linear):"
     ]
    },
    {
     "cell_type": "code",
     "collapsed": false,
     "input": [
      "fx1, fx2, fy1, fy2, fz1, fz2 = symbols('f_x1, f_x2, f_y1, f_y2, f_z1, f_z2')\n",
      "fx = (1 - xi)*fx1 + xi*fx2\n",
      "fy = (1 - xi)*fy1 + xi*fy2\n",
      "fz = (1 - xi)*fz1 + xi*fz2\n",
      "f = Matrix([fx, fy, fz])\n",
      "f"
     ],
     "language": "python",
     "metadata": {},
     "outputs": [
      {
       "latex": [
        "$$\\left[\\begin{matrix}f_{x1} \\left(- \\xi + 1\\right) + f_{x2} \\xi\\\\f_{y1} \\left(- \\xi + 1\\right) + f_{y2} \\xi\\\\f_{z1} \\left(- \\xi + 1\\right) + f_{z2} \\xi\\end{matrix}\\right]$$"
       ],
       "metadata": {},
       "output_type": "pyout",
       "png": "[encoded data removed]",
       "prompt_number": 40,
       "text": [
        "\u23a1 f\u2093\u2081\u22c5(-\u03be + 1) + f\u2093\u2082\u22c5\u03be \u23a4\n",
        "\u23a2                      \u23a5\n",
        "\u23a2f_y1\u22c5(-\u03be + 1) + f_y2\u22c5\u03be\u23a5\n",
        "\u23a2                      \u23a5\n",
        "\u23a3f_z1\u22c5(-\u03be + 1) + f_z2\u22c5\u03be\u23a6"
       ]
      }
     ],
     "prompt_number": 40
    },
    {
     "cell_type": "code",
     "collapsed": false,
     "input": [
      "# Shape functions for applied force -- linear\n",
      "SF = Matrix(np.zeros((3, 12)))\n",
      "SF[0, 0 ] =  x2                     # x\n",
      "SF[0, 6 ] =  xi\n",
      "SF[1, 1 ] =  x2                     # y\n",
      "SF[1, 7 ] =  xi\n",
      "SF[2, 2 ] =  x2                     # z\n",
      "SF[2, 8 ] =  xi\n",
      "SF"
     ],
     "language": "python",
     "metadata": {},
     "outputs": [
      {
       "latex": [
        "$$\\left[\\begin{array}{cccccccccccc}- \\xi + 1 & 0.0 & 0.0 & 0.0 & 0.0 & 0.0 & \\xi & 0.0 & 0.0 & 0.0 & 0.0 & 0.0\\\\0.0 & - \\xi + 1 & 0.0 & 0.0 & 0.0 & 0.0 & 0.0 & \\xi & 0.0 & 0.0 & 0.0 & 0.0\\\\0.0 & 0.0 & - \\xi + 1 & 0.0 & 0.0 & 0.0 & 0.0 & 0.0 & \\xi & 0.0 & 0.0 & 0.0\\end{array}\\right]$$"
       ],
       "metadata": {},
       "output_type": "pyout",
       "png": "[encoded data removed]",
       "prompt_number": 41,
       "text": [
        "\u23a1-\u03be + 1   0.0     0.0    0.0  0.0  0.0   \u03be   0.0  0.0  0.0  0.0  0.0\u23a4\n",
        "\u23a2                                                                   \u23a5\n",
        "\u23a2 0.0    -\u03be + 1   0.0    0.0  0.0  0.0  0.0   \u03be   0.0  0.0  0.0  0.0\u23a5\n",
        "\u23a2                                                                   \u23a5\n",
        "\u23a3 0.0     0.0    -\u03be + 1  0.0  0.0  0.0  0.0  0.0   \u03be   0.0  0.0  0.0\u23a6"
       ]
      }
     ],
     "prompt_number": 41
    },
    {
     "cell_type": "markdown",
     "metadata": {},
     "source": [
      "First shape integral for applied forces:"
     ]
    },
    {
     "cell_type": "code",
     "collapsed": false,
     "input": [
      "shape_integral_F1 = SF.applyfunc(\n",
      "    lambda xxx: l * sympy.integrate(xxx, (xi, 0, 1)).expand().simplify()\n",
      ")\n",
      "shape_integral_F1"
     ],
     "language": "python",
     "metadata": {},
     "outputs": [
      {
       "latex": [
        "$$\\left[\\begin{array}{cccccccccccc}\\frac{l}{2} & 0 & 0 & 0 & 0 & 0 & \\frac{l}{2} & 0 & 0 & 0 & 0 & 0\\\\0 & \\frac{l}{2} & 0 & 0 & 0 & 0 & 0 & \\frac{l}{2} & 0 & 0 & 0 & 0\\\\0 & 0 & \\frac{l}{2} & 0 & 0 & 0 & 0 & 0 & \\frac{l}{2} & 0 & 0 & 0\\end{array}\\right]$$"
       ],
       "metadata": {},
       "output_type": "pyout",
       "png": "[encoded data removed]",
       "prompt_number": 42,
       "text": [
        "\u23a1l                 l               \u23a4\n",
        "\u23a2\u2500  0  0  0  0  0  \u2500  0  0  0  0  0\u23a5\n",
        "\u23a22                 2               \u23a5\n",
        "\u23a2                                  \u23a5\n",
        "\u23a2   l                 l            \u23a5\n",
        "\u23a20  \u2500  0  0  0  0  0  \u2500  0  0  0  0\u23a5\n",
        "\u23a2   2                 2            \u23a5\n",
        "\u23a2                                  \u23a5\n",
        "\u23a2      l                 l         \u23a5\n",
        "\u23a20  0  \u2500  0  0  0  0  0  \u2500  0  0  0\u23a5\n",
        "\u23a3      2                 2         \u23a6"
       ]
      }
     ],
     "prompt_number": 42
    },
    {
     "cell_type": "markdown",
     "metadata": {},
     "source": [
      "Second shape integral for applied forces:"
     ]
    },
    {
     "cell_type": "code",
     "collapsed": false,
     "input": [
      "shape_integral_F2 = [\n",
      "    [l * (S[i, :].T * SF[j, :]).applyfunc(\n",
      "        lambda xxx: sympy.integrate(xxx, (xi, 0, 1)).expand().simplify())\n",
      "     for j in range(3)]\n",
      "    for i in range(3)\n",
      "]"
     ],
     "language": "python",
     "metadata": {},
     "outputs": [],
     "prompt_number": 43
    },
    {
     "cell_type": "markdown",
     "metadata": {},
     "source": [
      "The generalised nodal forces are given by the trace of this (the other parts of it are used to find the moments on the whole body directly...):"
     ]
    },
    {
     "cell_type": "code",
     "collapsed": false,
     "input": [
      "F = shape_integral_F2[0][0] + shape_integral_F2[1][1] + shape_integral_F2[2][2]"
     ],
     "language": "python",
     "metadata": {},
     "outputs": [],
     "prompt_number": 44
    },
    {
     "cell_type": "markdown",
     "metadata": {},
     "source": [
      "Special case -- constant force:"
     ]
    },
    {
     "cell_type": "code",
     "collapsed": false,
     "input": [
      "F * Matrix([fx1, fy1, fz1, 0, 0, 0, fx1, fy1, fz1, 0, 0, 0])"
     ],
     "language": "python",
     "metadata": {},
     "outputs": [
      {
       "latex": [
        "$$\\left[\\begin{matrix}\\frac{f_{x1} l}{2}\\\\\\frac{f_{y1} l}{2}\\\\\\frac{f_{z1} l}{2}\\\\0\\\\- \\frac{f_{z1} l^{2}}{12}\\\\\\frac{f_{y1} l^{2}}{12}\\\\\\frac{f_{x1} l}{2}\\\\\\frac{f_{y1} l}{2}\\\\\\frac{f_{z1} l}{2}\\\\0\\\\\\frac{f_{z1} l^{2}}{12}\\\\- \\frac{f_{y1} l^{2}}{12}\\end{matrix}\\right]$$"
       ],
       "metadata": {},
       "output_type": "pyout",
       "png": "[encoded data removed]",
       "prompt_number": 45,
       "text": [
        "\u23a1  f\u2093\u2081\u22c5l  \u23a4\n",
        "\u23a2  \u2500\u2500\u2500\u2500\u2500  \u23a5\n",
        "\u23a2    2    \u23a5\n",
        "\u23a2         \u23a5\n",
        "\u23a2 f_y1\u22c5l  \u23a5\n",
        "\u23a2 \u2500\u2500\u2500\u2500\u2500\u2500  \u23a5\n",
        "\u23a2   2     \u23a5\n",
        "\u23a2         \u23a5\n",
        "\u23a2 f_z1\u22c5l  \u23a5\n",
        "\u23a2 \u2500\u2500\u2500\u2500\u2500\u2500  \u23a5\n",
        "\u23a2   2     \u23a5\n",
        "\u23a2         \u23a5\n",
        "\u23a2    0    \u23a5\n",
        "\u23a2         \u23a5\n",
        "\u23a2       2 \u23a5\n",
        "\u23a2-f_z1\u22c5l  \u23a5\n",
        "\u23a2\u2500\u2500\u2500\u2500\u2500\u2500\u2500\u2500\u2500\u23a5\n",
        "\u23a2    12   \u23a5\n",
        "\u23a2         \u23a5\n",
        "\u23a2       2 \u23a5\n",
        "\u23a2 f_y1\u22c5l  \u23a5\n",
        "\u23a2 \u2500\u2500\u2500\u2500\u2500\u2500\u2500 \u23a5\n",
        "\u23a2    12   \u23a5\n",
        "\u23a2         \u23a5\n",
        "\u23a2  f\u2093\u2081\u22c5l  \u23a5\n",
        "\u23a2  \u2500\u2500\u2500\u2500\u2500  \u23a5\n",
        "\u23a2    2    \u23a5\n",
        "\u23a2         \u23a5\n",
        "\u23a2 f_y1\u22c5l  \u23a5\n",
        "\u23a2 \u2500\u2500\u2500\u2500\u2500\u2500  \u23a5\n",
        "\u23a2   2     \u23a5\n",
        "\u23a2         \u23a5\n",
        "\u23a2 f_z1\u22c5l  \u23a5\n",
        "\u23a2 \u2500\u2500\u2500\u2500\u2500\u2500  \u23a5\n",
        "\u23a2   2     \u23a5\n",
        "\u23a2         \u23a5\n",
        "\u23a2    0    \u23a5\n",
        "\u23a2         \u23a5\n",
        "\u23a2       2 \u23a5\n",
        "\u23a2 f_z1\u22c5l  \u23a5\n",
        "\u23a2 \u2500\u2500\u2500\u2500\u2500\u2500\u2500 \u23a5\n",
        "\u23a2    12   \u23a5\n",
        "\u23a2         \u23a5\n",
        "\u23a2       2 \u23a5\n",
        "\u23a2-f_y1\u22c5l  \u23a5\n",
        "\u23a2\u2500\u2500\u2500\u2500\u2500\u2500\u2500\u2500\u2500\u23a5\n",
        "\u23a3    12   \u23a6"
       ]
      }
     ],
     "prompt_number": 45
    },
    {
     "cell_type": "markdown",
     "metadata": {},
     "source": [
      "Another example -- a uniform distributed force in the z direction:"
     ]
    },
    {
     "cell_type": "code",
     "collapsed": false,
     "input": [
      "F * Matrix([0, 0, fz1, 0, 0, 0, 0, 0, fz1, 0, 0, 0]) / (l/12*fz1)"
     ],
     "language": "python",
     "metadata": {},
     "outputs": [
      {
       "latex": [
        "$$\\left[\\begin{matrix}0\\\\0\\\\6\\\\0\\\\- l\\\\0\\\\0\\\\0\\\\6\\\\0\\\\l\\\\0\\end{matrix}\\right]$$"
       ],
       "metadata": {},
       "output_type": "pyout",
       "png": "[encoded data removed]",
       "prompt_number": 46,
       "text": [
        "\u23a10 \u23a4\n",
        "\u23a2  \u23a5\n",
        "\u23a20 \u23a5\n",
        "\u23a2  \u23a5\n",
        "\u23a26 \u23a5\n",
        "\u23a2  \u23a5\n",
        "\u23a20 \u23a5\n",
        "\u23a2  \u23a5\n",
        "\u23a2-l\u23a5\n",
        "\u23a2  \u23a5\n",
        "\u23a20 \u23a5\n",
        "\u23a2  \u23a5\n",
        "\u23a20 \u23a5\n",
        "\u23a2  \u23a5\n",
        "\u23a20 \u23a5\n",
        "\u23a2  \u23a5\n",
        "\u23a26 \u23a5\n",
        "\u23a2  \u23a5\n",
        "\u23a20 \u23a5\n",
        "\u23a2  \u23a5\n",
        "\u23a2l \u23a5\n",
        "\u23a2  \u23a5\n",
        "\u23a30 \u23a6"
       ]
      }
     ],
     "prompt_number": 46
    },
    {
     "cell_type": "heading",
     "level": 2,
     "metadata": {},
     "source": [
      "Output"
     ]
    },
    {
     "cell_type": "markdown",
     "metadata": {},
     "source": [
      "Write a Python file with functions to calculate all of these:"
     ]
    },
    {
     "cell_type": "code",
     "collapsed": false,
     "input": [
      "def numpy_array_str(expr):\n",
      "    return str(expr) \\\n",
      "        .replace('Matrix([', 'array([\\n') \\\n",
      "        .replace('], [', '],\\n[') \\\n",
      "        .replace(']])', ']\\n])')\n",
      "        \n",
      "def numpy_array_str_2x2(arr):\n",
      "    return ',\\n'.join(['[{}]'.format(',\\n'.join([numpy_array_str(arr[i][j])\n",
      "                                                 for j in range(3)]))\n",
      "                        for i in range(3)])"
     ],
     "language": "python",
     "metadata": {},
     "outputs": [],
     "prompt_number": 47
    },
    {
     "cell_type": "code",
     "collapsed": false,
     "input": [
      "import datetime\n",
      "\n",
      "code = \"\"\"\n",
      "# Automatically generated from SymPy in notebook\n",
      "# {date}\n",
      "\n",
      "from __future__ import division\n",
      "from numpy import array\n",
      "\n",
      "def mass(l, rho_1, rho_2):\n",
      "    return {mass}\n",
      "    \n",
      "def S1(l, rho_1, rho_2):\n",
      "    return {S1}\n",
      "    \n",
      "def S2(l, rho_1, rho_2):\n",
      "    return [\n",
      "        {S2}\n",
      "    ]\n",
      "    \n",
      "def K(l, E_x, G_x, EIy_1, EIy_2, EIz_1, EIz_2):\n",
      "    return {K}\n",
      "    \n",
      "def Ks(l):\n",
      "    return {Ks}\n",
      "    \n",
      "def F1(l):\n",
      "    return {F1}\n",
      "    \n",
      "def F2(l):\n",
      "    return [\n",
      "        {F2}\n",
      "    ]\n",
      "    \n",
      "\"\"\".format(\n",
      "    date=datetime.datetime.now(),\n",
      "    mass=mass,\n",
      "    S1=numpy_array_str(shape_integral_1),\n",
      "    S2=numpy_array_str_2x2(shape_integral_2),\n",
      "    K=numpy_array_str(simplify_ke(ke)),\n",
      "    Ks=numpy_array_str(ks),\n",
      "    F1=numpy_array_str(shape_integral_F1),\n",
      "    F2=numpy_array_str_2x2(shape_integral_F2)\n",
      ")\n",
      "\n",
      "with open('../beamfe/tapered_beam_element_integrals.py', 'wt') as f:\n",
      "    f.write(code)"
     ],
     "language": "python",
     "metadata": {},
     "outputs": [],
     "prompt_number": 48
    }
   ],
   "metadata": {}
  }
 ]
}